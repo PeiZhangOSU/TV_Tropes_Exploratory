{
 "cells": [
  {
   "cell_type": "markdown",
   "metadata": {},
   "source": [
    "# Trope Association Study\n",
    "\n",
    "## Aim:\n",
    "In this notebook, a graph of tropes will be generated from the pickled dictionary *film_trope_dict*, and be used to suggest commonly associated tropes based on user-submitted trope list. Weighted edges will be calulated between tropes that appeared in the same movie. \n",
    "\n",
    "**Note:** this trope dataset is not joined with the omdb dataset for the purpose of producing the graph, in order to fully use all available DBTropes data.\n",
    "\n",
    "## Steps:\n",
    "1. Prior to making the graph, plot the frequency histogram of all tropes. Consider cutting its long tail.\n",
    "2. Make the graph.\n",
    "3. Recommendation engine.\n",
    "4. Filtering user input & handling errors. Consider only use tropes with a frequency above a certain threshold.\n",
    "5. Bonus: Auto-complete available trope names as user is typing (only in web app?).\n",
    "6. Bonus: Giving feedback on examples of (top250?) movies in which the recommended trope(s) is used together with user tropes."
   ]
  },
  {
   "cell_type": "code",
   "execution_count": 6,
   "metadata": {
    "collapsed": true
   },
   "outputs": [],
   "source": [
    "# Put all imports in this cell\n",
    "\n",
    "# Basic needs\n",
    "from __future__ import print_function  # Because some of the code was moved from Python 3 to 2\n",
    "import pickle\n",
    "import re\n",
    "import itertools\n",
    "\n",
    "# For graphs\n",
    "import networkx as nx\n",
    "\n",
    "# PyData stuff\n",
    "import numpy as np\n",
    "import pandas as pd\n",
    "import matplotlib.pyplot as plt\n",
    "import seaborn as sns\n",
    "%matplotlib inline"
   ]
  },
  {
   "cell_type": "code",
   "execution_count": 2,
   "metadata": {
    "collapsed": true
   },
   "outputs": [],
   "source": [
    "# read pickled python dict\n",
    "pkl_file = open('film_trope_dict_python2.pkl', 'rb')\n",
    "film_trope_dict = pickle.load(pkl_file)\n",
    "pkl_file.close()"
   ]
  },
  {
   "cell_type": "code",
   "execution_count": 5,
   "metadata": {
    "collapsed": false
   },
   "outputs": [
    {
     "data": {
      "text/plain": [
       "[u'DownTheRabbitHole',\n",
       " u'FiveFiveFive',\n",
       " u'AGlitchInTheMatrix',\n",
       " u'WallSlump',\n",
       " u'MultipleGunshotDeath',\n",
       " u'GunshipRescue',\n",
       " u'TemptingFate',\n",
       " u'CatapultNightmare',\n",
       " u'ForbiddenZone',\n",
       " u'RoofHopping',\n",
       " u'ChainedToARailway',\n",
       " u'LadyInRed',\n",
       " u'TheChooserOfTheOne',\n",
       " u'MilitaryMoonshiner',\n",
       " u'BaldBlackLeaderGuy',\n",
       " u'WireFu',\n",
       " u'HesDeadJim',\n",
       " u'YouNeverDidThatForMe',\n",
       " u'ViewersAreMorons',\n",
       " u'JurisdictionFriction',\n",
       " u'UnwinnableTrainingSimulation',\n",
       " u'RunOrDie',\n",
       " u'OohMeAccentsSlipping',\n",
       " u'ImAHumanitarian',\n",
       " u'DreamWithinADream',\n",
       " u'BigDamnHeroes',\n",
       " u'OhCrap',\n",
       " u'ImperialStormtrooperMarksmanshipAcademy',\n",
       " u'EasterEgg',\n",
       " u'RooftopConfrontation',\n",
       " u'StressVomit',\n",
       " u'TakeThat',\n",
       " u'PassThePopcorn',\n",
       " u'MotivationalLie',\n",
       " u'ThatManIsDead',\n",
       " u'TakeMyHand',\n",
       " u'PrecisionFStrike',\n",
       " u'GoshDangItToHeck',\n",
       " u'TheCanKickedHim',\n",
       " u'CountingBullets',\n",
       " u'GravityIsOnlyATheory',\n",
       " u'BarrierBustingBlow',\n",
       " u'TitleOnlyOpening',\n",
       " u'NotInKansasAnymore',\n",
       " u'ReverseArmFold',\n",
       " u'MexicanStandoff',\n",
       " u'GunsAkimbo',\n",
       " u'ConvenientlyTimedAttackFromBehind',\n",
       " u'TalkingIsAFreeAction',\n",
       " u'DeathIsCheap',\n",
       " u'TheChosenOne',\n",
       " u'OrificeInvasion',\n",
       " u'PlummetPerspective',\n",
       " u'DeathActivatedSuperPower',\n",
       " u'VomitIndiscretionShot',\n",
       " u'WalkingArmory',\n",
       " u'PowersAsPrograms',\n",
       " u'DistractedByTheSexy',\n",
       " u'ProsceniumReveal',\n",
       " u'ThePowerOfLove',\n",
       " u'ShootTheRope',\n",
       " u'YourOtherLeft',\n",
       " u'LivingADoubleLife',\n",
       " u'GoMadFromTheRevelation',\n",
       " u'HiddenWeapons',\n",
       " u'FlyAtTheCameraEnding',\n",
       " u'GargleBlaster',\n",
       " u'DrivingQuestion',\n",
       " u'CatScare',\n",
       " u'SacrificialLamb',\n",
       " u'RewritingReality',\n",
       " u'TrackingChip',\n",
       " u'TokenEvilTeammate',\n",
       " u'DarkIsNotEvil',\n",
       " u'ResidualSelfImage',\n",
       " u'DayHurtsDarkAdjustedEyes',\n",
       " u'BlindSeer',\n",
       " u'TheReveal',\n",
       " u'BetterThanNew',\n",
       " u'DrunkenBoxing',\n",
       " u'DramaticThunder',\n",
       " u'WhamLine',\n",
       " u'UnfamiliarCeiling',\n",
       " u'LongingForFictionland',\n",
       " u'TiredOfRunning',\n",
       " u'EmergingFromTheShadows',\n",
       " u'AlmostKiss',\n",
       " u'ThePrecariousLedge',\n",
       " u'PervertedSniffing',\n",
       " u'MissingMissionControl',\n",
       " u'ThisIsThePartWhere',\n",
       " u'ThereAreNoGirlsOnTheInternet',\n",
       " u'MoralDissonance',\n",
       " u'WaitHere',\n",
       " u'GreenAesop',\n",
       " u'BrickJoke',\n",
       " u'LocalReference',\n",
       " u'RevivalLoophole',\n",
       " u'CaliforniaDoubling',\n",
       " u'WiseBeyondTheirYears',\n",
       " u'OnePhoneCall',\n",
       " u'CreepyTwins',\n",
       " u'WipeThatSmileOffYourFace',\n",
       " u'FinalBattle',\n",
       " u'TheOnlyWayTheyWillLearn',\n",
       " u'FeetFirstIntroduction',\n",
       " u'FlippingTheBird',\n",
       " u'GenreSavvy',\n",
       " u'DoNotCallMePaul',\n",
       " u'LittleNo',\n",
       " u'SuicideMission',\n",
       " u'WhamShot',\n",
       " u'ThrowAwayGuns',\n",
       " u'CrapsackWorld',\n",
       " u'BalconyEscape',\n",
       " u'BreakingTheBonds',\n",
       " u'HeroicSecondWind',\n",
       " u'TheMole',\n",
       " u'FunnySpoon',\n",
       " u'TwoGirlsToATeam',\n",
       " u'BottomlessMagazines',\n",
       " u'MindRape',\n",
       " u'CityWithNoName',\n",
       " u'TerminallyDependentSociety',\n",
       " u'Flatline',\n",
       " u'HeroicSacrifice',\n",
       " u'VerbThis',\n",
       " u'PreExplosionGlow',\n",
       " u'SuperReflexes',\n",
       " u'PreMortemOneLiner',\n",
       " u'FaceHeelTurn',\n",
       " u'UseYourHead',\n",
       " u'RedshirtArmy',\n",
       " u'RubberyWorld',\n",
       " u'DisconnectedByDeath',\n",
       " u'HackerCave',\n",
       " u'TrueLovesKiss',\n",
       " u'SlowMotionFall',\n",
       " u'IDidWhatIHadToDo',\n",
       " u'LectureAsExposition',\n",
       " u'BodySurf',\n",
       " u'LibertyOverProsperity',\n",
       " u'PrettyLittleHeadShots',\n",
       " u'MoreDakka',\n",
       " u'HandSignals',\n",
       " u'HannibalLecture',\n",
       " u'TheDreaded',\n",
       " u'TryAndFollow',\n",
       " u'GatlingGood',\n",
       " u'BodyHorror',\n",
       " u'SpentShellsShower',\n",
       " u'PreAssKickingOneLiner',\n",
       " u'QuestionableConsent',\n",
       " u'StairwellChase',\n",
       " u'NoChallengeEqualsNoSatisfaction',\n",
       " u'AntiClimax',\n",
       " u'DespairEventHorizon',\n",
       " u'AstralCheckerboardDecor',\n",
       " u'ProtagonistCenteredMorality',\n",
       " u'MobstacleCourse',\n",
       " u'ObfuscatedInterface',\n",
       " u'ShooOutTheClowns',\n",
       " u'ThereIsNoTry',\n",
       " u'AndIMustScream',\n",
       " u'ConfiscatedPhone',\n",
       " u'NotSoDifferent',\n",
       " u'LogoJoke',\n",
       " u'PlatonicCave',\n",
       " u'TeamShot',\n",
       " u'UnexplainedRecovery',\n",
       " u'TheOutsideWorld',\n",
       " u'NoSell',\n",
       " u'ScrewThisImOuttaHere',\n",
       " u'ScreamingWarrior',\n",
       " u'SamusIsAGirl',\n",
       " u'BookEnds',\n",
       " u'ScareChord',\n",
       " u'LikeAGodToMe',\n",
       " u'HellBentForLeather',\n",
       " u'MajorInjuryUnderreaction',\n",
       " u'ActionPrologue',\n",
       " u'ClickHello',\n",
       " u'MagicCountdown',\n",
       " u'OracularUrchin',\n",
       " u'BigNo',\n",
       " u'Foreshadowing',\n",
       " u'AliceAllusion',\n",
       " u'EatTheCamera',\n",
       " u'CallToAdventure',\n",
       " u'TrashLanding',\n",
       " u'ContemplativeBoss',\n",
       " u'BeardOfEvil',\n",
       " u'FollowTheWhiteRabbit',\n",
       " u'ThePasswordIsAlwaysSwordfish',\n",
       " u'PluckyComicRelief',\n",
       " u'Hologram',\n",
       " u'IntimidationDemonstration',\n",
       " u'EyeAwaken',\n",
       " u'SneezeOfDoom',\n",
       " u'TheTreacheryOfImages',\n",
       " u'ClusterFBomb']"
      ]
     },
     "execution_count": 5,
     "metadata": {},
     "output_type": "execute_result"
    }
   ],
   "source": [
    "film_trope_dict['TheMatrix']"
   ]
  },
  {
   "cell_type": "code",
   "execution_count": 16,
   "metadata": {
    "collapsed": true
   },
   "outputs": [],
   "source": [
    "def add_connection(my_graph, node1, node2):\n",
    "    '''Add a new connection of node1-node2 to my_graph.\n",
    "       If edge[node1][node2] already exists in my_graph, add 1 weight.\n",
    "       Otherwise, create edge[node1][node2] and give it a weight of 1.'''\n",
    "    \n",
    "    if my_graph.has_edge(node1, node2):\n",
    "        my_graph[node1][node2]['weight'] += 1\n",
    "    else:\n",
    "        my_graph.add_edge(node1, node2, {'weight':1})\n",
    "\n",
    "\n",
    "def build_graph(my_dict):\n",
    "    '''Build a undirected, weighted graph from a dictionary. Each value is a list of items. \n",
    "    If item A and B appeared in the same value, add an edge between A-B.'''\n",
    "    \n",
    "    G = nx.Graph()\n",
    "    for value in my_dict.values():\n",
    "        for (item1, item2) in itertools.combinations(value, 2):\n",
    "            if item1 != item2:\n",
    "                add_connection(G, item1, item2)\n",
    "    return G\n",
    " \n",
    "    \n",
    "def print_graph(my_graph, verbose=False, draw_graph=False):\n",
    "    '''Print a summary of nodes and edges of my_graph, possibly with a picture presentation.'''\n",
    "    \n",
    "    # Nodes\n",
    "    print('Total Nodes: {}'.format(len(my_graph.nodes())))\n",
    "    if verbose:\n",
    "        print(my_graph.nodes())\n",
    "        \n",
    "    # Edges    \n",
    "    print('Total Edges: {}'.format(len(my_graph.edges())))\n",
    "    if verbose:\n",
    "        print(my_graph.edges())\n",
    "        \n",
    "    # Draw graph\n",
    "    if draw_graph:\n",
    "        if len(my_graph.nodes()) > 50:\n",
    "            print('More than 50 nodes: drawing is not recommended.')\n",
    "        else:\n",
    "            nx.draw(my_graph, with_labels=True)\n",
    "            plt.show()\n",
    "            \n",
    "   "
   ]
  },
  {
   "cell_type": "code",
   "execution_count": 21,
   "metadata": {
    "collapsed": false
   },
   "outputs": [
    {
     "name": "stdout",
     "output_type": "stream",
     "text": [
      "Total Nodes: 4\n",
      "['a', 'c', 'b', 'd']\n",
      "Total Edges: 3\n",
      "[('a', 'b'), ('c', 'b'), ('b', 'd')]\n"
     ]
    },
    {
     "data": {
      "image/png": "[encoded data removed]",
      "text/plain": [
       "<matplotlib.figure.Figure at 0x7f0fc99d75d0>"
      ]
     },
     "metadata": {},
     "output_type": "display_data"
    }
   ],
   "source": [
    "# minimum test example\n",
    "H = build_graph({1:['a', 'b'], 2:['b', 'c'], 3:['b', 'd']})\n",
    "print_graph(H, verbose=True, draw_graph=True)"
   ]
  },
  {
   "cell_type": "code",
   "execution_count": 22,
   "metadata": {
    "collapsed": true
   },
   "outputs": [],
   "source": [
    "# Build a graph from the film_trope_dict dictionary.\n",
    "# There is 18270 nodes, 7409784 edges.\n",
    "trope_graph = build_graph(film_trope_dict)"
   ]
  },
  {
   "cell_type": "code",
   "execution_count": 23,
   "metadata": {
    "collapsed": false
   },
   "outputs": [
    {
     "name": "stdout",
     "output_type": "stream",
     "text": [
      "Total Nodes: 18270\n",
      "Total Edges: 7409784\n"
     ]
    }
   ],
   "source": [
    "print_graph(trope_graph)"
   ]
  },
  {
   "cell_type": "code",
   "execution_count": null,
   "metadata": {
    "collapsed": false
   },
   "outputs": [],
   "source": [
    "## Pickling / Unpickling the graph \n",
    "\n",
    "# Save\n",
    "output = open('trope_graph.pkl', 'wb')\n",
    "pickle.dump(trope_graph, output, protocol=2) # default protocol is 3 in Python 3, not supported in Python 2\n",
    "output.close()\n",
    "\n",
    "## Load\n",
    "# pkl_file = open('trope_graph.pkl', 'rb')\n",
    "# trope_graph = pickle.load(pkl_file)\n",
    "# pkl_file.close()"
   ]
  },
  {
   "cell_type": "code",
   "execution_count": null,
   "metadata": {
    "collapsed": true
   },
   "outputs": [],
   "source": []
  }
 ],
 "metadata": {
  "kernelspec": {
   "display_name": "Python 2",
   "language": "python",
   "name": "python2"
  },
  "language_info": {
   "codemirror_mode": {
    "name": "ipython",
    "version": 2
   },
   "file_extension": ".py",
   "mimetype": "text/x-python",
   "name": "python",
   "nbconvert_exporter": "python",
   "pygments_lexer": "ipython2",
   "version": "2.7.13"
  }
 },
 "nbformat": 4,
 "nbformat_minor": 2
}
