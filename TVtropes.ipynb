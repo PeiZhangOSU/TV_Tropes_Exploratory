{
 "cells": [
  {
   "cell_type": "markdown",
   "metadata": {
    "deletable": true,
    "editable": true
   },
   "source": [
    "Dependency links:\n",
    "- [rdflib](https://github.com/RDFLib/rdflib)\n",
    "- [IMDbPY](https://github.com/alberanid/imdbpy)\n",
    "- [pandas](http://pandas.pydata.org/)\n",
    "- [matplotlib](https://matplotlib.org/)\n",
    "- [numpy](https://www.numpy.org/)\n",
    "- [unidecode](https://pypi.python.org/pypi/Unidecode)"
   ]
  },
  {
   "cell_type": "markdown",
   "metadata": {
    "deletable": true,
    "editable": true
   },
   "source": [
    "# Selecting Film Data out of All DBTropes Data\n",
    "\n",
    "**TODO: need to make this session into a makefile.**\n",
    "\n",
    "DBTropes Data can be downloaded [here](http://dbtropes.org/static/dbtropes.zip). Unzipped file is (re?)named as **dbtropes.nt**.\n",
    "\n",
    "The film data selection step should be done from the command line (too much pressure on Jupyter notebook), using the script *extract_film_data.py*:\n",
    "\n",
    "```python\n",
    "\n",
    "# Extracting all film type data\n",
    "# Subject format: http://dbtropes.org/resource/Film/[Film Title]\n",
    "\n",
    "import re\n",
    "\n",
    "def main():\n",
    "    film_data = open('film_data.nt', 'w')\n",
    "    with open('dbtropes.nt') as rawfile:\n",
    "        for line in rawfile:\n",
    "            if re.match(\"<http://dbtropes.org/resource/Film/\", line):\n",
    "                film_data.write(line)\n",
    "        film_data.close()\n",
    "\n",
    "if __name__ == \"__main__\":\n",
    "    main()\n",
    "    \n",
    "```"
   ]
  },
  {
   "cell_type": "markdown",
   "metadata": {
    "deletable": true,
    "editable": true
   },
   "source": [
    "# Parsing the Film Data Set\n",
    "\n",
    "The result of data parsing is pickeled. Start from the pickle or SQL database, see next session."
   ]
  },
  {
   "cell_type": "code",
   "execution_count": null,
   "metadata": {
    "collapsed": true,
    "deletable": true,
    "editable": true
   },
   "outputs": [],
   "source": [
    "# # This step takes a while. Alternative: load film_trope_dict.pkl, or use tv_tropes.db.\n",
    "\n",
    "# from __future__ import print_function\n",
    "# import rdflib\n",
    "\n",
    "# g = rdflib.Graph()\n",
    "# g.parse(\"film_data.nt\", format=\"nt\")\n",
    "\n",
    "# len(g)"
   ]
  },
  {
   "cell_type": "code",
   "execution_count": null,
   "metadata": {
    "collapsed": true,
    "deletable": true,
    "editable": true
   },
   "outputs": [],
   "source": [
    "# import re\n",
    "\n",
    "# film_trope_dict = {}\n",
    "\n",
    "\n",
    "# for t_sub, t_obj in g.subject_objects(predicate=rdflib.URIRef('http://www.w3.org/1999/02/22-rdf-syntax-ns#type')):\n",
    "#     title = ''\n",
    "#     trope = ''\n",
    "#     try:\n",
    "#         title = re.match('http://dbtropes.org/resource/Film/([^/]*)', t_sub).groups()[0]\n",
    "#         trope = re.match('http://dbtropes.org/resource/Main/([^/]*)', t_obj).groups()[0]\n",
    "#         if title in film_trope_dict:\n",
    "#             film_trope_dict[title].append(trope)\n",
    "#         else:\n",
    "#             film_trope_dict[title] = [trope]\n",
    "#     except Exception:\n",
    "#         pass\n"
   ]
  },
  {
   "cell_type": "markdown",
   "metadata": {
    "deletable": true,
    "editable": true
   },
   "source": [
    "# Preparing the Database for Downstream Analysis\n",
    "\n",
    "## Trope Appearance Database"
   ]
  },
  {
   "cell_type": "code",
   "execution_count": 1,
   "metadata": {
    "collapsed": true,
    "deletable": true,
    "editable": true
   },
   "outputs": [],
   "source": [
    "from __future__ import print_function # Because the code was moved from Python 3 to 2\n",
    "import re\n",
    "\n",
    "import pickle\n",
    "import sqlite3\n",
    "\n",
    "import pandas as pd\n",
    "import matplotlib.pyplot as plt\n",
    "import numpy as np\n",
    "%matplotlib inline\n"
   ]
  },
  {
   "cell_type": "code",
   "execution_count": null,
   "metadata": {
    "collapsed": true,
    "deletable": true,
    "editable": true
   },
   "outputs": [],
   "source": [
    "## write python dict to film_trope_dict.pkl\n",
    "\n",
    "# output = open('film_trope_dict_python2.pkl', 'wb')\n",
    "# pickle.dump(film_trope_dict, output, protocol=2) # default protocol is 3 in Python 3, not supported in Python 2\n",
    "# output.close()"
   ]
  },
  {
   "cell_type": "code",
   "execution_count": 2,
   "metadata": {
    "collapsed": false,
    "deletable": true,
    "editable": true
   },
   "outputs": [],
   "source": [
    "# read python dict back from the file\n",
    "pkl_file = open('film_trope_dict_python2.pkl', 'rb')\n",
    "film_trope_dict = pickle.load(pkl_file)\n",
    "pkl_file.close()"
   ]
  },
  {
   "cell_type": "code",
   "execution_count": 3,
   "metadata": {
    "collapsed": false,
    "deletable": true,
    "editable": true
   },
   "outputs": [
    {
     "data": {
      "text/html": [
       "<div>\n",
       "<style>\n",
       "    .dataframe thead tr:only-child th {\n",
       "        text-align: right;\n",
       "    }\n",
       "\n",
       "    .dataframe thead th {\n",
       "        text-align: left;\n",
       "    }\n",
       "\n",
       "    .dataframe tbody tr th {\n",
       "        vertical-align: top;\n",
       "    }\n",
       "</style>\n",
       "<table border=\"1\" class=\"dataframe\">\n",
       "  <thead>\n",
       "    <tr style=\"text-align: right;\">\n",
       "      <th></th>\n",
       "      <th>title</th>\n",
       "      <th>trope</th>\n",
       "    </tr>\n",
       "  </thead>\n",
       "  <tbody>\n",
       "    <tr>\n",
       "      <th>0</th>\n",
       "      <td>ABeautifulMind</td>\n",
       "      <td>ScienceRelatedMemeticDisorder</td>\n",
       "    </tr>\n",
       "    <tr>\n",
       "      <th>1</th>\n",
       "      <td>ABeautifulMind</td>\n",
       "      <td>HollywoodNerd</td>\n",
       "    </tr>\n",
       "    <tr>\n",
       "      <th>2</th>\n",
       "      <td>ABeautifulMind</td>\n",
       "      <td>TheBigBoard</td>\n",
       "    </tr>\n",
       "    <tr>\n",
       "      <th>3</th>\n",
       "      <td>ABeautifulMind</td>\n",
       "      <td>MadMathematician</td>\n",
       "    </tr>\n",
       "    <tr>\n",
       "      <th>4</th>\n",
       "      <td>ABeautifulMind</td>\n",
       "      <td>EEqualsMCHammer</td>\n",
       "    </tr>\n",
       "  </tbody>\n",
       "</table>\n",
       "</div>"
      ],
      "text/plain": [
       "            title                          trope\n",
       "0  ABeautifulMind  ScienceRelatedMemeticDisorder\n",
       "1  ABeautifulMind                  HollywoodNerd\n",
       "2  ABeautifulMind                    TheBigBoard\n",
       "3  ABeautifulMind               MadMathematician\n",
       "4  ABeautifulMind                EEqualsMCHammer"
      ]
     },
     "execution_count": 3,
     "metadata": {},
     "output_type": "execute_result"
    }
   ],
   "source": [
    "def read_dict_to_df(input_dict):\n",
    "    '''Take a dict of {title : [list of tropes in this title], \n",
    "       return a DataFrame of all film-trope pairs with an arbituary index.\n",
    "       Each row of the DataFrame: autoincremented index, name of title, name of trope.'''\n",
    "    df = pd.DataFrame.from_dict(input_dict, orient =\"index\").sort_index().stack().reset_index(level=1, drop=True).reset_index()    \n",
    "    df.columns = ['title', 'trope']\n",
    "    return df\n",
    "\n",
    "# This database is the foundation of all analysis.\n",
    "film_trope_df = read_dict_to_df(film_trope_dict)\n",
    "film_trope_df.head()"
   ]
  },
  {
   "cell_type": "code",
   "execution_count": 4,
   "metadata": {
    "collapsed": false,
    "deletable": true,
    "editable": true
   },
   "outputs": [],
   "source": [
    "# Some string manipulation helper functions\n",
    "\n",
    "import unidecode\n",
    "def strip_lowercase(text):\n",
    "    '''Strip spaces, capitalization, punctuation and accents from string, esp. movie titles.'''\n",
    "    text = unidecode.unidecode(text) # dependency: unidecode\n",
    "    return re.sub(r'[^\\w]', '', text).lower()\n",
    "\n",
    "def add_space(text):\n",
    "    '''Add spaces between captalized words, for better display of trope and movie names in the output.\n",
    "       Spaces should be added just before the strings need to be outputted.'''\n",
    "    return re.sub(r\"\\B([A-Z]+)\", r\" \\1\", text)"
   ]
  },
  {
   "cell_type": "code",
   "execution_count": 5,
   "metadata": {
    "collapsed": false,
    "deletable": true,
    "editable": true
   },
   "outputs": [
    {
     "data": {
      "text/html": [
       "<div>\n",
       "<style>\n",
       "    .dataframe thead tr:only-child th {\n",
       "        text-align: right;\n",
       "    }\n",
       "\n",
       "    .dataframe thead th {\n",
       "        text-align: left;\n",
       "    }\n",
       "\n",
       "    .dataframe tbody tr th {\n",
       "        vertical-align: top;\n",
       "    }\n",
       "</style>\n",
       "<table border=\"1\" class=\"dataframe\">\n",
       "  <thead>\n",
       "    <tr style=\"text-align: right;\">\n",
       "      <th></th>\n",
       "      <th>title</th>\n",
       "      <th>trope</th>\n",
       "      <th>stripped_title</th>\n",
       "      <th>stripped_trope</th>\n",
       "    </tr>\n",
       "  </thead>\n",
       "  <tbody>\n",
       "    <tr>\n",
       "      <th>0</th>\n",
       "      <td>ABeautifulMind</td>\n",
       "      <td>ScienceRelatedMemeticDisorder</td>\n",
       "      <td>abeautifulmind</td>\n",
       "      <td>sciencerelatedmemeticdisorder</td>\n",
       "    </tr>\n",
       "    <tr>\n",
       "      <th>1</th>\n",
       "      <td>ABeautifulMind</td>\n",
       "      <td>HollywoodNerd</td>\n",
       "      <td>abeautifulmind</td>\n",
       "      <td>hollywoodnerd</td>\n",
       "    </tr>\n",
       "    <tr>\n",
       "      <th>2</th>\n",
       "      <td>ABeautifulMind</td>\n",
       "      <td>TheBigBoard</td>\n",
       "      <td>abeautifulmind</td>\n",
       "      <td>thebigboard</td>\n",
       "    </tr>\n",
       "    <tr>\n",
       "      <th>3</th>\n",
       "      <td>ABeautifulMind</td>\n",
       "      <td>MadMathematician</td>\n",
       "      <td>abeautifulmind</td>\n",
       "      <td>madmathematician</td>\n",
       "    </tr>\n",
       "    <tr>\n",
       "      <th>4</th>\n",
       "      <td>ABeautifulMind</td>\n",
       "      <td>EEqualsMCHammer</td>\n",
       "      <td>abeautifulmind</td>\n",
       "      <td>eequalsmchammer</td>\n",
       "    </tr>\n",
       "  </tbody>\n",
       "</table>\n",
       "</div>"
      ],
      "text/plain": [
       "            title                          trope  stripped_title  \\\n",
       "0  ABeautifulMind  ScienceRelatedMemeticDisorder  abeautifulmind   \n",
       "1  ABeautifulMind                  HollywoodNerd  abeautifulmind   \n",
       "2  ABeautifulMind                    TheBigBoard  abeautifulmind   \n",
       "3  ABeautifulMind               MadMathematician  abeautifulmind   \n",
       "4  ABeautifulMind                EEqualsMCHammer  abeautifulmind   \n",
       "\n",
       "                  stripped_trope  \n",
       "0  sciencerelatedmemeticdisorder  \n",
       "1                  hollywoodnerd  \n",
       "2                    thebigboard  \n",
       "3               madmathematician  \n",
       "4                eequalsmchammer  "
      ]
     },
     "execution_count": 5,
     "metadata": {},
     "output_type": "execute_result"
    }
   ],
   "source": [
    "pd.options.mode.chained_assignment = None # supress pd SettingWithCopyWarning\n",
    "film_trope_df['stripped_title'] = film_trope_df['title'].map(strip_lowercase, na_action='ignore')\n",
    "film_trope_df['stripped_trope'] = film_trope_df['trope'].map(strip_lowercase, na_action='ignore')\n",
    "film_trope_df.head()"
   ]
  },
  {
   "cell_type": "code",
   "execution_count": null,
   "metadata": {
    "collapsed": true,
    "deletable": true,
    "editable": true
   },
   "outputs": [],
   "source": [
    "# # Make a SQL table of all title-trope pairs. Table name: 'title_trope'\n",
    "\n",
    "# import sqlite3\n",
    "# conn = sqlite3.connect('tv_tropes.db')\n",
    "# film_trope_df.to_sql('title_trope', conn, if_exists='fail', index=False, index_label=None, chunksize=None)\n",
    "# conn.close()"
   ]
  },
  {
   "cell_type": "code",
   "execution_count": 6,
   "metadata": {
    "collapsed": false,
    "deletable": true,
    "editable": true
   },
   "outputs": [
    {
     "data": {
      "text/html": [
       "<div>\n",
       "<style>\n",
       "    .dataframe thead tr:only-child th {\n",
       "        text-align: right;\n",
       "    }\n",
       "\n",
       "    .dataframe thead th {\n",
       "        text-align: left;\n",
       "    }\n",
       "\n",
       "    .dataframe tbody tr th {\n",
       "        vertical-align: top;\n",
       "    }\n",
       "</style>\n",
       "<table border=\"1\" class=\"dataframe\">\n",
       "  <thead>\n",
       "    <tr style=\"text-align: right;\">\n",
       "      <th></th>\n",
       "      <th>title</th>\n",
       "      <th>trope</th>\n",
       "      <th>stripped_title</th>\n",
       "      <th>stripped_trope</th>\n",
       "    </tr>\n",
       "  </thead>\n",
       "  <tbody>\n",
       "    <tr>\n",
       "      <th>0</th>\n",
       "      <td>ABeautifulMind</td>\n",
       "      <td>ScienceRelatedMemeticDisorder</td>\n",
       "      <td>abeautifulmind</td>\n",
       "      <td>sciencerelatedmemeticdisorder</td>\n",
       "    </tr>\n",
       "    <tr>\n",
       "      <th>1</th>\n",
       "      <td>ABeautifulMind</td>\n",
       "      <td>HollywoodNerd</td>\n",
       "      <td>abeautifulmind</td>\n",
       "      <td>hollywoodnerd</td>\n",
       "    </tr>\n",
       "    <tr>\n",
       "      <th>2</th>\n",
       "      <td>ABeautifulMind</td>\n",
       "      <td>TheBigBoard</td>\n",
       "      <td>abeautifulmind</td>\n",
       "      <td>thebigboard</td>\n",
       "    </tr>\n",
       "    <tr>\n",
       "      <th>3</th>\n",
       "      <td>ABeautifulMind</td>\n",
       "      <td>MadMathematician</td>\n",
       "      <td>abeautifulmind</td>\n",
       "      <td>madmathematician</td>\n",
       "    </tr>\n",
       "    <tr>\n",
       "      <th>4</th>\n",
       "      <td>ABeautifulMind</td>\n",
       "      <td>EEqualsMCHammer</td>\n",
       "      <td>abeautifulmind</td>\n",
       "      <td>eequalsmchammer</td>\n",
       "    </tr>\n",
       "    <tr>\n",
       "      <th>5</th>\n",
       "      <td>ABeautifulMind</td>\n",
       "      <td>TheReveal</td>\n",
       "      <td>abeautifulmind</td>\n",
       "      <td>thereveal</td>\n",
       "    </tr>\n",
       "    <tr>\n",
       "      <th>6</th>\n",
       "      <td>ABeautifulMind</td>\n",
       "      <td>Hallucinations</td>\n",
       "      <td>abeautifulmind</td>\n",
       "      <td>hallucinations</td>\n",
       "    </tr>\n",
       "    <tr>\n",
       "      <th>7</th>\n",
       "      <td>ABeautifulMind</td>\n",
       "      <td>GoodWithNumbers</td>\n",
       "      <td>abeautifulmind</td>\n",
       "      <td>goodwithnumbers</td>\n",
       "    </tr>\n",
       "    <tr>\n",
       "      <th>8</th>\n",
       "      <td>ABeautifulMind</td>\n",
       "      <td>TheLoinsSleepTonight</td>\n",
       "      <td>abeautifulmind</td>\n",
       "      <td>theloinssleeptonight</td>\n",
       "    </tr>\n",
       "    <tr>\n",
       "      <th>9</th>\n",
       "      <td>ABeautifulMind</td>\n",
       "      <td>ShoutOut</td>\n",
       "      <td>abeautifulmind</td>\n",
       "      <td>shoutout</td>\n",
       "    </tr>\n",
       "  </tbody>\n",
       "</table>\n",
       "</div>"
      ],
      "text/plain": [
       "            title                          trope  stripped_title  \\\n",
       "0  ABeautifulMind  ScienceRelatedMemeticDisorder  abeautifulmind   \n",
       "1  ABeautifulMind                  HollywoodNerd  abeautifulmind   \n",
       "2  ABeautifulMind                    TheBigBoard  abeautifulmind   \n",
       "3  ABeautifulMind               MadMathematician  abeautifulmind   \n",
       "4  ABeautifulMind                EEqualsMCHammer  abeautifulmind   \n",
       "5  ABeautifulMind                      TheReveal  abeautifulmind   \n",
       "6  ABeautifulMind                 Hallucinations  abeautifulmind   \n",
       "7  ABeautifulMind                GoodWithNumbers  abeautifulmind   \n",
       "8  ABeautifulMind           TheLoinsSleepTonight  abeautifulmind   \n",
       "9  ABeautifulMind                       ShoutOut  abeautifulmind   \n",
       "\n",
       "                  stripped_trope  \n",
       "0  sciencerelatedmemeticdisorder  \n",
       "1                  hollywoodnerd  \n",
       "2                    thebigboard  \n",
       "3               madmathematician  \n",
       "4                eequalsmchammer  \n",
       "5                      thereveal  \n",
       "6                 hallucinations  \n",
       "7                goodwithnumbers  \n",
       "8           theloinssleeptonight  \n",
       "9                       shoutout  "
      ]
     },
     "execution_count": 6,
     "metadata": {},
     "output_type": "execute_result"
    }
   ],
   "source": [
    "# Read SQL table and try out some queries\n",
    "\n",
    "conn = sqlite3.connect('tv_tropes.db')\n",
    "# cur = conn.cursor()  # Do not need cursor with pd.read_sql_query\n",
    "\n",
    "# query = '''SELECT title, trope FROM title_trope\n",
    "#            WHERE title = \"TheMatrix\"\n",
    "#            LIMIT 10;'''\n",
    "\n",
    "query = 'SELECT * FROM title_trope LIMIT 10'\n",
    "toy_df = pd.read_sql_query(query, conn)\n",
    "\n",
    "# Always close Connection and Cursor objects that are open when done.\n",
    "# This prevents the SQLite database from being locked, which may lead to update failure and errors.\n",
    "conn.close()\n",
    "\n",
    "toy_df"
   ]
  },
  {
   "cell_type": "markdown",
   "metadata": {
    "deletable": true,
    "editable": true
   },
   "source": [
    "# Movie Info Database"
   ]
  },
  {
   "cell_type": "code",
   "execution_count": 7,
   "metadata": {
    "collapsed": false,
    "deletable": true,
    "editable": true
   },
   "outputs": [],
   "source": [
    "def run_query(query, sql_db='tv_tropes.db', index_col=None, coerce_float=True,\n",
    "              params=None, parse_dates=None, chunksize=None):\n",
    "    '''Takes a SQL query(a string) and a database (a string of 'database_name.db') in which query \n",
    "       should be performed, run the query and return the query result as a pandas DataFrame.\n",
    "       Can use the same args as pd.read_sql_query().'''\n",
    "    \n",
    "    if not isinstance(query, basestring):\n",
    "        raise TypeError('query must be a string')\n",
    "    conn = sqlite3.connect(sql_db)\n",
    "    df = pd.read_sql_query(query, conn, index_col=index_col, coerce_float=coerce_float, \n",
    "                           params=params, parse_dates=parse_dates, chunksize=chunksize)\n",
    "    conn.close\n",
    "    return df"
   ]
  },
  {
   "cell_type": "code",
   "execution_count": 8,
   "metadata": {
    "collapsed": false,
    "deletable": true,
    "editable": true
   },
   "outputs": [
    {
     "data": {
      "text/html": [
       "<div>\n",
       "<style>\n",
       "    .dataframe thead tr:only-child th {\n",
       "        text-align: right;\n",
       "    }\n",
       "\n",
       "    .dataframe thead th {\n",
       "        text-align: left;\n",
       "    }\n",
       "\n",
       "    .dataframe tbody tr th {\n",
       "        vertical-align: top;\n",
       "    }\n",
       "</style>\n",
       "<table border=\"1\" class=\"dataframe\">\n",
       "  <thead>\n",
       "    <tr style=\"text-align: right;\">\n",
       "      <th></th>\n",
       "      <th>ID</th>\n",
       "      <th>imdbID</th>\n",
       "      <th>Title</th>\n",
       "      <th>Year</th>\n",
       "      <th>Rating</th>\n",
       "      <th>Runtime</th>\n",
       "      <th>Genre</th>\n",
       "      <th>Released</th>\n",
       "      <th>Director</th>\n",
       "      <th>Writer</th>\n",
       "      <th>Cast</th>\n",
       "      <th>Metacritic</th>\n",
       "      <th>imdbRating</th>\n",
       "      <th>imdbVotes</th>\n",
       "      <th>Language</th>\n",
       "      <th>Country</th>\n",
       "      <th>Awards</th>\n",
       "      <th>lastUpdated</th>\n",
       "      <th>Oscars</th>\n",
       "    </tr>\n",
       "  </thead>\n",
       "  <tbody>\n",
       "    <tr>\n",
       "      <th>0</th>\n",
       "      <td>4972</td>\n",
       "      <td>tt0004972</td>\n",
       "      <td>The Birth of a Nation</td>\n",
       "      <td>1915</td>\n",
       "      <td>Not Rated</td>\n",
       "      <td>165.0</td>\n",
       "      <td>Drama, History, Romance</td>\n",
       "      <td>1915-03-03</td>\n",
       "      <td>D.W. Griffith</td>\n",
       "      <td>Thomas F. Dixon Jr. (adapted from his novel: \"...</td>\n",
       "      <td>Lillian Gish, Mae Marsh, Henry B. Walthall, Mi...</td>\n",
       "      <td>NaN</td>\n",
       "      <td>6.9</td>\n",
       "      <td>13793.0</td>\n",
       "      <td>None</td>\n",
       "      <td>USA</td>\n",
       "      <td>1 win.</td>\n",
       "      <td>2014-03-31 02:13:23.440000000</td>\n",
       "      <td>0</td>\n",
       "    </tr>\n",
       "    <tr>\n",
       "      <th>1</th>\n",
       "      <td>6206</td>\n",
       "      <td>tt0006206</td>\n",
       "      <td>Les vampires</td>\n",
       "      <td>1915</td>\n",
       "      <td>Not Rated</td>\n",
       "      <td>399.0</td>\n",
       "      <td>Action, Adventure, Crime</td>\n",
       "      <td>1915-11-13</td>\n",
       "      <td>Louis Feuillade</td>\n",
       "      <td>Louis Feuillade</td>\n",
       "      <td>Musidora, Édouard Mathé, Marcel Lévesque, Jean...</td>\n",
       "      <td>NaN</td>\n",
       "      <td>6.6</td>\n",
       "      <td>2502.0</td>\n",
       "      <td>French</td>\n",
       "      <td>France</td>\n",
       "      <td>1 nomination.</td>\n",
       "      <td>2014-03-07 00:05:37.133000000</td>\n",
       "      <td>0</td>\n",
       "    </tr>\n",
       "    <tr>\n",
       "      <th>2</th>\n",
       "      <td>6864</td>\n",
       "      <td>tt0006864</td>\n",
       "      <td>Intolerance: Love's Struggle Throughout the Ages</td>\n",
       "      <td>1916</td>\n",
       "      <td>Not Rated</td>\n",
       "      <td>197.0</td>\n",
       "      <td>Drama, History</td>\n",
       "      <td>1916-09-05</td>\n",
       "      <td>D.W. Griffith</td>\n",
       "      <td>D.W. Griffith (scenario), Anita Loos (titles)</td>\n",
       "      <td>Lillian Gish, Spottiswoode Aitken, Mary Alden,...</td>\n",
       "      <td>NaN</td>\n",
       "      <td>8.0</td>\n",
       "      <td>8673.0</td>\n",
       "      <td>None</td>\n",
       "      <td>USA</td>\n",
       "      <td>1 win.</td>\n",
       "      <td>2014-03-27 01:05:04.920000000</td>\n",
       "      <td>0</td>\n",
       "    </tr>\n",
       "  </tbody>\n",
       "</table>\n",
       "</div>"
      ],
      "text/plain": [
       "     ID     imdbID                                             Title  Year  \\\n",
       "0  4972  tt0004972                             The Birth of a Nation  1915   \n",
       "1  6206  tt0006206                                      Les vampires  1915   \n",
       "2  6864  tt0006864  Intolerance: Love's Struggle Throughout the Ages  1916   \n",
       "\n",
       "      Rating  Runtime                     Genre    Released         Director  \\\n",
       "0  Not Rated    165.0   Drama, History, Romance  1915-03-03    D.W. Griffith   \n",
       "1  Not Rated    399.0  Action, Adventure, Crime  1915-11-13  Louis Feuillade   \n",
       "2  Not Rated    197.0            Drama, History  1916-09-05    D.W. Griffith   \n",
       "\n",
       "                                              Writer  \\\n",
       "0  Thomas F. Dixon Jr. (adapted from his novel: \"...   \n",
       "1                                    Louis Feuillade   \n",
       "2      D.W. Griffith (scenario), Anita Loos (titles)   \n",
       "\n",
       "                                                Cast  Metacritic  imdbRating  \\\n",
       "0  Lillian Gish, Mae Marsh, Henry B. Walthall, Mi...         NaN         6.9   \n",
       "1  Musidora, Édouard Mathé, Marcel Lévesque, Jean...         NaN         6.6   \n",
       "2  Lillian Gish, Spottiswoode Aitken, Mary Alden,...         NaN         8.0   \n",
       "\n",
       "   imdbVotes Language Country         Awards                    lastUpdated  \\\n",
       "0    13793.0     None     USA         1 win.  2014-03-31 02:13:23.440000000   \n",
       "1     2502.0   French  France  1 nomination.  2014-03-07 00:05:37.133000000   \n",
       "2     8673.0     None     USA         1 win.  2014-03-27 01:05:04.920000000   \n",
       "\n",
       "   Oscars  \n",
       "0       0  \n",
       "1       0  \n",
       "2       0  "
      ]
     },
     "execution_count": 8,
     "metadata": {},
     "output_type": "execute_result"
    }
   ],
   "source": [
    "# Extract omdb table from bokeh sample database movies.db\n",
    "\n",
    "query = '''SELECT * FROM omdb;'''\n",
    "omdb_df = run_query(query, 'movies.db')\n",
    "omdb_df.head(3)"
   ]
  },
  {
   "cell_type": "code",
   "execution_count": null,
   "metadata": {
    "collapsed": false,
    "deletable": true,
    "editable": true
   },
   "outputs": [],
   "source": [
    "omdb_df['stripped_title'] = omdb_df['Title'].map(strip_lowercase, na_action='ignore')\n",
    "omdb_df.head(3)"
   ]
  },
  {
   "cell_type": "code",
   "execution_count": null,
   "metadata": {
    "collapsed": false,
    "deletable": true,
    "editable": true
   },
   "outputs": [],
   "source": [
    "# # Make a SQL table of omdb movie info in tv_tropes.db. Table name: 'omdb'\n",
    "\n",
    "# conn = sqlite3.connect('tv_tropes.db')\n",
    "# omdb_df.to_sql('omdb', conn, if_exists='fail', index=False, index_label=None, chunksize=None)\n",
    "# conn.close()"
   ]
  },
  {
   "cell_type": "code",
   "execution_count": 9,
   "metadata": {
    "collapsed": false,
    "deletable": true,
    "editable": true
   },
   "outputs": [
    {
     "name": "stdout",
     "output_type": "stream",
     "text": [
      "[u'Action', u'Adventure', u'Animation', u'Biography', u'Comedy', u'Crime', u'Documentary', u'Drama', u'Family', u'Fantasy', u'Film-Noir', u'History', u'Horror', u'Music', u'Musical', u'Mystery', u'News', u'Romance', u'Sci-Fi', u'Short', u'Sport', u'Thriller', u'War', u'Western']\n"
     ]
    }
   ],
   "source": [
    "# Getting a list of all possible genres\n",
    "# Caution: this list has an u'Adult' genre\n",
    "\n",
    "# def parse_genres(genres):\n",
    "#     '''Take a string of genres separated by ', ', return a list of genres'''\n",
    "#     regex = re.compile(r'([\\w-]+)(?:$|, )')\n",
    "#     return re.findall(regex, genres)\n",
    "\n",
    "def split_str(input_str):\n",
    "    '''Take a string with the format 'A, B, C', return a list ['A', 'B', 'C']/'''\n",
    "    regex = re.compile(r'([\\w-]+)(?:$|, )')\n",
    "    return re.findall(regex, genres)\n",
    "\n",
    "def get_genre_list():\n",
    "    '''Return a list of all possible genres in omdb table.'''\n",
    "    result = set()\n",
    "    q = 'SELECT Genre FROM omdb;'\n",
    "    temp_df = run_query(q, 'tv_tropes.db')\n",
    "    for g in temp_df['Genre'].dropna().unique():\n",
    "        result.update(re.split(', ', g))\n",
    "    return list(result)\n",
    "\n",
    "GENRE_LIST = get_genre_list()\n",
    "GENRE_LIST.sort()\n",
    "GENRE_LIST.remove(u'Adult')  # not going to deal with this\n",
    "print(GENRE_LIST)"
   ]
  },
  {
   "cell_type": "markdown",
   "metadata": {
    "deletable": true,
    "editable": true
   },
   "source": [
    "## (Now Obsolete) using IMDB 5000 Database\n",
    "Originally I planned to use IMDbPy API, but it turned out to be not as straight forward as I expected. I then decided to use the [Kaggle IMDB 5000 Movie Database](https://www.kaggle.com/deepmatrix/imdb-5000-movie-dataset) instead. \n",
    "\n",
    "The database, a csv file **movie_metadata.csv**, comes from web scrapping. 28 column names:\n",
    "\n",
    "\"movie_title\" \"color\" \"num_critic_for_reviews\" \"movie_facebook_likes\" \"duration\" \"director_name\" \"director_facebook_likes\" \"actor_3_name\" \"actor_3_facebook_likes\" \"actor_2_name\" \"actor_2_facebook_likes\" \"actor_1_name\" \"actor_1_facebook_likes\" \"gross\" \"genres\" \"num_voted_users\" \"cast_total_facebook_likes\" \"facenumber_in_poster\" \"plot_keywords\" \"movie_imdb_link\" \"num_user_for_reviews\" \"language\" \"country\" \"content_rating\" \"budget\" \"title_year\" \"imdb_score\" \"aspect_ratio\"\n",
    "\n",
    "**Note: sadly, later I found this database was smaller than Bokeh movie sample database.**"
   ]
  },
  {
   "cell_type": "code",
   "execution_count": null,
   "metadata": {
    "collapsed": false,
    "deletable": true,
    "editable": true
   },
   "outputs": [],
   "source": [
    "# imdb5000 = pd.read_csv('movie_metadata.csv', encoding='utf-8')\n",
    "# imdb5000.head(10)"
   ]
  },
  {
   "cell_type": "code",
   "execution_count": null,
   "metadata": {
    "collapsed": false,
    "deletable": true,
    "editable": true
   },
   "outputs": [],
   "source": [
    "# movie_info_df = imdb5000[['movie_title', 'genres', 'title_year', 'imdb_score', 'director_name', \n",
    "#                            'gross', 'budget', 'content_rating', 'movie_imdb_link']]\n",
    "# movie_info_df.head()"
   ]
  },
  {
   "cell_type": "code",
   "execution_count": null,
   "metadata": {
    "collapsed": false,
    "deletable": true,
    "editable": true
   },
   "outputs": [],
   "source": [
    "# # Some imdb helper functions\n",
    "\n",
    "# def find_imdb_id(link):\n",
    "#     '''Take a string of an IMDB link url, and return the IMDB ID of this movie (tt[\\d]*7)'''\n",
    "#     regex = re.compile(r':?title/(tt[\\d]*)/\\?ref')\n",
    "#     return re.findall(regex, link)[0]\n",
    "\n",
    "# def parse_genres_5000(genres):\n",
    "#     '''Take a string of genres separated by |, return a list of genres'''\n",
    "#     regex = re.compile(r'([\\w-]+)(?:$|\\|)')\n",
    "#     return re.findall(regex, genres)"
   ]
  },
  {
   "cell_type": "code",
   "execution_count": null,
   "metadata": {
    "collapsed": false,
    "deletable": true,
    "editable": true
   },
   "outputs": [],
   "source": [
    "# movie_info_df['imdb_id'] = movie_info_df['movie_imdb_link'].map(find_imdb_id, na_action='ignore')\n",
    "# movie_info_df['stripped_title'] = movie_info_df['movie_title'].map(strip_lowercase, na_action='ignore')\n",
    "\n",
    "# movie_info_df.drop('movie_imdb_link', axis=1, inplace=True)\n",
    "# movie_info_df.set_index('imdb_id', inplace=True)\n",
    "# movie_info_df.head()"
   ]
  },
  {
   "cell_type": "code",
   "execution_count": null,
   "metadata": {
    "collapsed": false,
    "deletable": true,
    "editable": true
   },
   "outputs": [],
   "source": [
    "# # Make a SQL table of movie info. Table name: 'movie_info'\n",
    "\n",
    "# conn = sqlite3.connect('tv_tropes.db')\n",
    "# movie_info_df.to_sql('movie_info', conn, if_exists='fail', index=False, index_label=None, chunksize=None)\n",
    "# conn.close()"
   ]
  },
  {
   "cell_type": "code",
   "execution_count": null,
   "metadata": {
    "collapsed": false,
    "deletable": true,
    "editable": true
   },
   "outputs": [],
   "source": [
    "# # Test: read SQL table of movie info\n",
    "\n",
    "# conn = sqlite3.connect('tv_tropes.db')\n",
    "\n",
    "# query = 'SELECT * FROM movie_info LIMIT 3;'\n",
    "# print(pd.read_sql_query(query, conn))\n",
    "\n",
    "# # Always close Connection and Cursor objects that are open when done.\n",
    "# # This prevents the SQLite database from being locked, which may lead to update failure and errors.\n",
    "# conn.close()"
   ]
  },
  {
   "cell_type": "code",
   "execution_count": null,
   "metadata": {
    "collapsed": false,
    "deletable": true,
    "editable": true
   },
   "outputs": [],
   "source": [
    "# # Join tables: film_trope, movie_info\n",
    "\n",
    "# query = '''SELECT * FROM title_trope as t\n",
    "#            JOIN movie_info as m\n",
    "#            ON t.stripped_title = m.stripped_title;'''\n",
    "# movie_joined = run_query(query)\n",
    "# len(movie_joined['title'].unique())\n",
    "\n",
    "# # Output: 2143 (titles sucessfully joined)\n",
    "# # Bokeh sample database is able to join 3840"
   ]
  },
  {
   "cell_type": "markdown",
   "metadata": {
    "deletable": true,
    "editable": true
   },
   "source": [
    "# (Now Obsolete) Using IMDbPY"
   ]
  },
  {
   "cell_type": "code",
   "execution_count": null,
   "metadata": {
    "collapsed": true,
    "deletable": true,
    "editable": true
   },
   "outputs": [],
   "source": [
    "# # In case imdb is not imported correctly\n",
    "# # In python CLI, import imdb, print imdb.__path__, and add to sys.path in jupyter\n",
    "\n",
    "# import sys\n",
    "# sys.path.append() # insert module path\n",
    "# print(sys.path)"
   ]
  },
  {
   "cell_type": "code",
   "execution_count": null,
   "metadata": {
    "collapsed": false,
    "deletable": true,
    "editable": true
   },
   "outputs": [],
   "source": [
    "# # The problem with IMDbPY is, it is difficult to get the movie object from the title.\n",
    "# # And sometime an error of 'How did you gey here?' will occur\n",
    "\n",
    "# from imdb import IMDb\n",
    "    \n",
    "# # Create the object that will be used to access the IMDb's database.\n",
    "# ia = IMDb(accessSystem='http')"
   ]
  },
  {
   "cell_type": "code",
   "execution_count": null,
   "metadata": {
    "collapsed": false,
    "deletable": true,
    "editable": true
   },
   "outputs": [],
   "source": [
    "# the_matrix = ia.get_movie('0133093')\n",
    "# #print the_matrix['director']\n"
   ]
  },
  {
   "cell_type": "code",
   "execution_count": null,
   "metadata": {
    "collapsed": false,
    "deletable": true,
    "editable": true
   },
   "outputs": [],
   "source": [
    "# print(the_matrix['title'], the_matrix['year'], the_matrix['genre'], the_matrix['rating'], the_matrix['top 250 rank'])"
   ]
  },
  {
   "cell_type": "markdown",
   "metadata": {
    "deletable": true,
    "editable": true
   },
   "source": [
    "# Plotting"
   ]
  },
  {
   "cell_type": "code",
   "execution_count": 10,
   "metadata": {
    "collapsed": false,
    "deletable": true,
    "editable": true
   },
   "outputs": [],
   "source": [
    "# Matplotlib style config\n",
    "plt.rcParams.update(plt.rcParamsDefault) # reset\n",
    "plt.style.use('seaborn-pastel')\n",
    "\n",
    "plt.rcParams['axes.spines.top'] = False\n",
    "plt.rcParams['axes.spines.right'] = False\n",
    "plt.rcParams['axes.spines.left'] = False\n",
    "plt.rcParams['axes.spines.bottom'] = False\n",
    "plt.rcParams.update({'figure.autolayout': True}) # Auto resize\n",
    "\n",
    "# plt.rcParams['figure.figsize'] = 8, 5\n",
    "# plt.rcParams['font.size'] = 10\n",
    "# plt.rcParams['axes.labelsize'] = 10\n",
    "# plt.rcParams['axes.labelweight'] = 'bold'\n",
    "# plt.rcParams['xtick.labelsize'] = 8\n",
    "# plt.rcParams['ytick.labelsize'] = 8\n",
    "# plt.rcParams['legend.fontsize'] = 10\n",
    "# plt.rcParams['figure.titlesize'] = 12"
   ]
  },
  {
   "cell_type": "code",
   "execution_count": 11,
   "metadata": {
    "collapsed": false,
    "deletable": true,
    "editable": true
   },
   "outputs": [
    {
     "data": {
      "text/plain": [
       "[<matplotlib.lines.Line2D at 0x7fb8fad52290>]"
      ]
     },
     "execution_count": 11,
     "metadata": {},
     "output_type": "execute_result"
    }
   ],
   "source": [
    "plt.plot([1,2,3,4], [1,4,9,16])\n",
    "plt.plot([1,2,3,4], [2,4,8,10])\n",
    "plt.plot([1,2,3,4], [4,3,2,1])"
   ]
  },
  {
   "cell_type": "markdown",
   "metadata": {
    "deletable": true,
    "editable": true
   },
   "source": [
    "## Popular Tropes in Each Genre"
   ]
  },
  {
   "cell_type": "code",
   "execution_count": 12,
   "metadata": {
    "collapsed": true,
    "deletable": true,
    "editable": true
   },
   "outputs": [],
   "source": [
    "# SQL dababase: tv_tropes.db\n",
    "# movie-trope table: 'title_trope'\n",
    "# movie info table: 'omdb'\n",
    "\n",
    "def get_trope_freq_by_genre(genre_exp):\n",
    "    '''Return a pd.DataFrame containing counts and frequencies of trope appearance.\n",
    "       genre_exp: a single string (eg. '%Action%') used to match genre info, omdb.Genre LIKE genre_exp.\n",
    "       genre_exp can be writted to match multiple genres (in alphabetical order) in the same movie, \n",
    "       eg. '%Action%Horror%'\n",
    "       Result DataFrame columns: ['trope', 'stripped_trope', 'trope_count', 'trope_freq'], \n",
    "       sorted by trope_count (desc).    \n",
    "    '''    \n",
    "    # Query explanations:\n",
    "    # temp_counted: join title_trope and omdb tables on stripped_title, then filter results by the give genre.\n",
    "    # temp_result: calculate trope_count based on temp_filtered\n",
    "    # outmost select: calculate trope_freq based on temp_result\n",
    "    genre_query = '''WITH temp_counted AS\n",
    "                         (SELECT trope, stripped_trope, COUNT(stripped_trope) as trope_count\n",
    "                         FROM (SELECT * FROM title_trope AS t\n",
    "                               JOIN omdb AS o\n",
    "                               ON t.stripped_title = o.stripped_title\n",
    "                               WHERE o.Genre LIKE ?) AS temp_filtered\n",
    "                         GROUP BY stripped_trope\n",
    "                         ORDER BY trope_count DESC)\n",
    "                     SELECT *, trope_count * 1.0 / (SELECT SUM(trope_count) from temp_counted) as trope_freq\n",
    "                     FROM temp_counted; \n",
    "                 '''\n",
    "    return run_query(genre_query, params=(genre_exp,))"
   ]
  },
  {
   "cell_type": "code",
   "execution_count": 13,
   "metadata": {
    "collapsed": false,
    "deletable": true,
    "editable": true
   },
   "outputs": [
    {
     "data": {
      "text/html": [
       "<div>\n",
       "<style>\n",
       "    .dataframe thead tr:only-child th {\n",
       "        text-align: right;\n",
       "    }\n",
       "\n",
       "    .dataframe thead th {\n",
       "        text-align: left;\n",
       "    }\n",
       "\n",
       "    .dataframe tbody tr th {\n",
       "        vertical-align: top;\n",
       "    }\n",
       "</style>\n",
       "<table border=\"1\" class=\"dataframe\">\n",
       "  <thead>\n",
       "    <tr style=\"text-align: right;\">\n",
       "      <th></th>\n",
       "      <th>trope</th>\n",
       "      <th>stripped_trope</th>\n",
       "      <th>trope_count</th>\n",
       "      <th>trope_freq</th>\n",
       "    </tr>\n",
       "  </thead>\n",
       "  <tbody>\n",
       "    <tr>\n",
       "      <th>0</th>\n",
       "      <td>ShoutOut</td>\n",
       "      <td>shoutout</td>\n",
       "      <td>1107</td>\n",
       "      <td>0.005779</td>\n",
       "    </tr>\n",
       "    <tr>\n",
       "      <th>1</th>\n",
       "      <td>ChekhovsGun</td>\n",
       "      <td>chekhovsgun</td>\n",
       "      <td>791</td>\n",
       "      <td>0.004129</td>\n",
       "    </tr>\n",
       "    <tr>\n",
       "      <th>2</th>\n",
       "      <td>DeadpanSnarker</td>\n",
       "      <td>deadpansnarker</td>\n",
       "      <td>647</td>\n",
       "      <td>0.003377</td>\n",
       "    </tr>\n",
       "    <tr>\n",
       "      <th>3</th>\n",
       "      <td>OhCrap</td>\n",
       "      <td>ohcrap</td>\n",
       "      <td>636</td>\n",
       "      <td>0.003320</td>\n",
       "    </tr>\n",
       "    <tr>\n",
       "      <th>4</th>\n",
       "      <td>Foreshadowing</td>\n",
       "      <td>foreshadowing</td>\n",
       "      <td>596</td>\n",
       "      <td>0.003111</td>\n",
       "    </tr>\n",
       "  </tbody>\n",
       "</table>\n",
       "</div>"
      ],
      "text/plain": [
       "            trope  stripped_trope  trope_count  trope_freq\n",
       "0        ShoutOut        shoutout         1107    0.005779\n",
       "1     ChekhovsGun     chekhovsgun          791    0.004129\n",
       "2  DeadpanSnarker  deadpansnarker          647    0.003377\n",
       "3          OhCrap          ohcrap          636    0.003320\n",
       "4   Foreshadowing   foreshadowing          596    0.003111"
      ]
     },
     "execution_count": 13,
     "metadata": {},
     "output_type": "execute_result"
    }
   ],
   "source": [
    "all_genres_df = get_trope_freq_by_genre('%')\n",
    "all_genres_df.head()"
   ]
  },
  {
   "cell_type": "code",
   "execution_count": 18,
   "metadata": {
    "collapsed": false
   },
   "outputs": [],
   "source": [
    "# all_genres_df.to_csv('internal_csv/all_genres_freq.csv')"
   ]
  },
  {
   "cell_type": "code",
   "execution_count": null,
   "metadata": {
    "collapsed": false,
    "deletable": true,
    "editable": true
   },
   "outputs": [],
   "source": [
    "all_genres_df['trope_count'].describe()"
   ]
  },
  {
   "cell_type": "code",
   "execution_count": null,
   "metadata": {
    "collapsed": false,
    "deletable": true,
    "editable": true
   },
   "outputs": [],
   "source": [
    "all_genres_df['trope_count'].quantile([0.9, 0.99, 0.999])"
   ]
  },
  {
   "cell_type": "code",
   "execution_count": null,
   "metadata": {
    "collapsed": false,
    "deletable": true,
    "editable": true
   },
   "outputs": [],
   "source": [
    "print('Min. counts at 0.9 quantile: ', len(all_genres_df[all_genres_df['trope_count'] > 23]))\n",
    "print('Min. counts at 0.99 quantile: ', len(all_genres_df[all_genres_df['trope_count'] > 122]))\n",
    "print('Min. counts at 0.999 quantile: ', len(all_genres_df[all_genres_df['trope_count'] > 385]))"
   ]
  },
  {
   "cell_type": "code",
   "execution_count": null,
   "metadata": {
    "collapsed": false,
    "deletable": true,
    "editable": true
   },
   "outputs": [],
   "source": [
    "print('Top 20 Tropes of All:')\n",
    "#print(', '.join(t for t in all_genres_df['trope'][:20]))\n",
    "print(list(all_genres_df['trope'][:20]))\n",
    "print('These 20 Tropes account for {} of all trope counts.'.format(all_genres_df['trope_freq'][:20].sum()))"
   ]
  },
  {
   "cell_type": "code",
   "execution_count": null,
   "metadata": {
    "collapsed": false,
    "deletable": true,
    "editable": true
   },
   "outputs": [],
   "source": [
    "action_df = get_trope_freq_by_genre('%Action%')\n",
    "action_df.head()"
   ]
  },
  {
   "cell_type": "code",
   "execution_count": 19,
   "metadata": {
    "collapsed": false,
    "deletable": true,
    "editable": true
   },
   "outputs": [],
   "source": [
    "# GENRE_LIST: a list of all possible genres\n",
    "\n",
    "def count_all_genres(genre_list = GENRE_LIST):\n",
    "    dfs = {}\n",
    "    dfs['all_genres'] = get_trope_freq_by_genre('%')\n",
    "    print('all_genres is counted')\n",
    "    \n",
    "    for genre in genre_list:\n",
    "        genre_exp = '%{}%'.format(genre)\n",
    "        try:\n",
    "            dfs[genre] = get_trope_freq_by_genre(genre_exp)\n",
    "            print('{} is counted'.format(genre))\n",
    "        except TypeError:\n",
    "            print('{} is not found'.format(genre))\n",
    "    return dfs"
   ]
  },
  {
   "cell_type": "code",
   "execution_count": 20,
   "metadata": {
    "collapsed": false,
    "deletable": true,
    "editable": true
   },
   "outputs": [
    {
     "name": "stdout",
     "output_type": "stream",
     "text": [
      "all_genres is counted\n",
      "Action is counted\n",
      "Adventure is counted\n",
      "Animation is counted\n",
      "Biography is counted\n",
      "Comedy is counted\n",
      "Crime is counted\n",
      "Documentary is counted\n",
      "Drama is counted\n",
      "Family is counted\n",
      "Fantasy is counted\n",
      "Film-Noir is counted\n",
      "History is counted\n",
      "Horror is counted\n",
      "Music is counted\n",
      "Musical is counted\n",
      "Mystery is counted\n",
      "News is not found\n",
      "Romance is counted\n",
      "Sci-Fi is counted\n",
      "Short is counted\n",
      "Sport is counted\n",
      "Thriller is counted\n",
      "War is counted\n",
      "Western is counted\n"
     ]
    }
   ],
   "source": [
    "# This takes a couple of minutes\n",
    "by_genre_dfs = count_all_genres(GENRE_LIST)"
   ]
  },
  {
   "cell_type": "code",
   "execution_count": 21,
   "metadata": {
    "collapsed": false,
    "deletable": true,
    "editable": true
   },
   "outputs": [
    {
     "data": {
      "text/plain": [
       "[u'Action',\n",
       " u'Adventure',\n",
       " u'Animation',\n",
       " u'Biography',\n",
       " u'Comedy',\n",
       " u'Crime',\n",
       " u'Documentary',\n",
       " u'Drama',\n",
       " u'Family',\n",
       " u'Fantasy',\n",
       " u'Film-Noir',\n",
       " u'History',\n",
       " u'Horror',\n",
       " u'Music',\n",
       " u'Musical',\n",
       " u'Mystery',\n",
       " u'Romance',\n",
       " u'Sci-Fi',\n",
       " u'Short',\n",
       " u'Sport',\n",
       " u'Thriller',\n",
       " u'War',\n",
       " u'Western']"
      ]
     },
     "execution_count": 21,
     "metadata": {},
     "output_type": "execute_result"
    }
   ],
   "source": [
    "# Since genre 'News' is not found in the overlap of title_trope and omdb, delete from GENRE_LIST\n",
    "\n",
    "GENRE_LIST.remove(u'News')\n",
    "GENRE_LIST"
   ]
  },
  {
   "cell_type": "code",
   "execution_count": 22,
   "metadata": {
    "collapsed": false
   },
   "outputs": [
    {
     "name": "stdout",
     "output_type": "stream",
     "text": [
      "Action is written to csv\n",
      "Adventure is written to csv\n",
      "Animation is written to csv\n",
      "Biography is written to csv\n",
      "Comedy is written to csv\n",
      "Crime is written to csv\n",
      "Documentary is written to csv\n",
      "Drama is written to csv\n",
      "Family is written to csv\n",
      "Fantasy is written to csv\n",
      "Film-Noir is written to csv\n",
      "History is written to csv\n",
      "Horror is written to csv\n",
      "Music is written to csv\n",
      "Musical is written to csv\n",
      "Mystery is written to csv\n",
      "Romance is written to csv\n",
      "Sci-Fi is written to csv\n",
      "Short is written to csv\n",
      "Sport is written to csv\n",
      "Thriller is written to csv\n",
      "War is written to csv\n",
      "Western is written to csv\n"
     ]
    }
   ],
   "source": [
    "# # save to csv for using in another notebook, or loading back only on genre\n",
    "\n",
    "# for g in GENRE_LIST:\n",
    "#     by_genre_dfs[g].to_csv('internal_csv/{}_freq.csv'.format(g))\n",
    "#     print('{} is written to csv'.format(g))"
   ]
  },
  {
   "cell_type": "code",
   "execution_count": null,
   "metadata": {
    "collapsed": false,
    "deletable": true,
    "editable": true
   },
   "outputs": [],
   "source": [
    "# Plot testing\n",
    "# GENRE_LIST: a list of all possible genres\n",
    "\n",
    "def plot_top_n_freq(df, n=10, xlabel='Trope Frequency', title=''):\n",
    "    fig, ax = plt.subplots()\n",
    "    y_pos = np.arange(n)\n",
    "    ax.barh(y_pos, df.iloc[:n]['trope_freq'])\n",
    "    ax.set_yticks(y_pos)\n",
    "    ax.set_yticklabels(df.iloc[:n]['trope'])\n",
    "    ax.invert_yaxis()  # labels read top-to-bottom\n",
    "    ax.set_xlabel(xlabel)\n",
    "    ax.set_title(title)\n",
    "    \n",
    "for genre in GENRE_LIST[:3]:\n",
    "    plot_top_n_freq(by_genre_dfs[genre], title = 'Top 10 Tropes in the {} Genre'.format(genre))"
   ]
  },
  {
   "cell_type": "code",
   "execution_count": null,
   "metadata": {
    "collapsed": false,
    "deletable": true,
    "editable": true
   },
   "outputs": [],
   "source": [
    "# Prepare data for plotting a heatmap of how frequent the overall top tropes are in each genre\n",
    "def get_genre_heatmap_data(n=20):\n",
    "    '''Generate data for plotting a heatmap.\n",
    "       Tropes selected are top n tropes over all genres.\n",
    "       Their freq in all_genres and each individual genre is summarized in the DataFrame returned.'''\n",
    "\n",
    "    heatmap_df = by_genre_dfs['all_genres'].loc[:(n-1), ['trope', 'trope_freq']]\n",
    "    heatmap_df.columns = ['trope', 'All_genres']\n",
    "\n",
    "    for genre in GENRE_LIST:    \n",
    "        heatmap_df[genre] = pd.merge(heatmap_df, by_genre_dfs[genre], \n",
    "                                     left_on='trope', right_on='trope', how='left')['trope_freq']\n",
    "    heatmap_df.set_index('trope', inplace=True)\n",
    "    return heatmap_df\n",
    "    \n",
    "heatmap_df = get_genre_heatmap_data(n=20)"
   ]
  },
  {
   "cell_type": "code",
   "execution_count": null,
   "metadata": {
    "collapsed": false,
    "deletable": true,
    "editable": true
   },
   "outputs": [],
   "source": [
    "heatmap_df.head()"
   ]
  },
  {
   "cell_type": "code",
   "execution_count": null,
   "metadata": {
    "collapsed": false,
    "deletable": true,
    "editable": true
   },
   "outputs": [],
   "source": [
    "# Plot Heatmap of overall top tropes in each genre\n",
    "# use output_notebook for Jupyter, output_file for saving pictures\n",
    "\n",
    "import seaborn as sns\n",
    "\n",
    "def plot_heatmap(df, title='', title_offset=1.2, size=(15, 9), path=None):\n",
    "    '''Plot a heatmap from the given DataFrame (should be in a pivot table format),\n",
    "       using specified title, title_offset (location from the top), (fig)size (a tuple).\n",
    "       If a path is given, save the plot to the path. Otherwise show plot.'''\n",
    "    # set appropriate font and dpi\n",
    "    sns.set(font_scale=1.5)  # 1.1 will be larger, etc \n",
    "    sns.set_style({\"savefig.dpi\": 100})\n",
    "    # plot it out\n",
    "    ax = sns.heatmap(df, linewidths=.1, cmap='gist_heat_r') \n",
    "    # set the x-axis labels on the top\n",
    "    ax.xaxis.tick_top()\n",
    "    # rotate the x-axis labels\n",
    "    plt.xticks(rotation=50)\n",
    "    plt.setp(ax.xaxis.get_majorticklabels(), ha='left')\n",
    "    # get figure (usually obtained via \"fig,ax=plt.subplots()\" with matplotlib)\n",
    "    fig = ax.get_figure()\n",
    "    # specify dimensions\n",
    "    fig.set_size_inches(size[0], size[1])\n",
    "    # add title\n",
    "    ax.set_title(title, y=title_offset, fontsize=25)\n",
    "    plt.gcf().subplots_adjust(top=title_offset)\n",
    "    \n",
    "    if path:\n",
    "        if path[-4:] == '.svg':\n",
    "            fig.savefig(path, format='svg')\n",
    "        else:\n",
    "            fig.savefig(path)\n",
    "    else:\n",
    "        plt.show()\n",
    "\n",
    "plot_heatmap(heatmap_df, title='Trope Frequency in Each Genre', path='freq_heatmap_by_genre.png')"
   ]
  },
  {
   "cell_type": "code",
   "execution_count": null,
   "metadata": {
    "collapsed": true,
    "deletable": true,
    "editable": true
   },
   "outputs": [],
   "source": []
  }
 ],
 "metadata": {
  "kernelspec": {
   "display_name": "Python 2",
   "language": "python",
   "name": "python2"
  },
  "language_info": {
   "codemirror_mode": {
    "name": "ipython",
    "version": 2
   },
   "file_extension": ".py",
   "mimetype": "text/x-python",
   "name": "python",
   "nbconvert_exporter": "python",
   "pygments_lexer": "ipython2",
   "version": "2.7.13"
  }
 },
 "nbformat": 4,
 "nbformat_minor": 2
}
