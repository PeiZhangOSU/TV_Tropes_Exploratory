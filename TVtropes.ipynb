{
 "cells": [
  {
   "cell_type": "markdown",
   "metadata": {
    "deletable": true,
    "editable": true
   },
   "source": [
    "Dependency links:\n",
    "- [rdflib](https://github.com/RDFLib/rdflib)\n",
    "- [IMDbPY](https://github.com/alberanid/imdbpy)\n",
    "- [pandas](http://pandas.pydata.org/)\n",
    "- [matplotlib](https://matplotlib.org/)\n",
    "- [numpy](https://www.numpy.org/)\n",
    "- [unidecode](https://pypi.python.org/pypi/Unidecode)"
   ]
  },
  {
   "cell_type": "markdown",
   "metadata": {
    "deletable": true,
    "editable": true
   },
   "source": [
    "# Selecting Film Data out of All DBTropes Data\n",
    "\n",
    "**TODO: need to make this session into a makefile.**\n",
    "\n",
    "DBTropes Data can be downloaded [here](http://dbtropes.org/static/dbtropes.zip). Unzipped file is (re?)named as **dbtropes.nt**.\n",
    "\n",
    "The film data selection step should be done from the command line (too much pressure on Jupyter notebook), using the script *extract_film_data.py*:\n",
    "\n",
    "```python\n",
    "\n",
    "# Extracting all film type data\n",
    "# Subject format: http://dbtropes.org/resource/Film/[Film Title]\n",
    "\n",
    "import re\n",
    "\n",
    "def main():\n",
    "    film_data = open('film_data.nt', 'w')\n",
    "    with open('dbtropes.nt') as rawfile:\n",
    "        for line in rawfile:\n",
    "            if re.match(\"<http://dbtropes.org/resource/Film/\", line):\n",
    "                film_data.write(line)\n",
    "        film_data.close()\n",
    "\n",
    "if __name__ == \"__main__\":\n",
    "    main()\n",
    "    \n",
    "```"
   ]
  },
  {
   "cell_type": "markdown",
   "metadata": {
    "deletable": true,
    "editable": true
   },
   "source": [
    "# Parsing the Film Data Set\n",
    "\n",
    "The result of data parsing is pickeled. Start from the pickle or SQL database, see next session."
   ]
  },
  {
   "cell_type": "code",
   "execution_count": null,
   "metadata": {
    "collapsed": true,
    "deletable": true,
    "editable": true
   },
   "outputs": [],
   "source": [
    "# # This step takes a while. Alternative: load film_trope_dict.pkl, or use tv_tropes.db.\n",
    "\n",
    "# from __future__ import print_function\n",
    "# import rdflib\n",
    "\n",
    "# g = rdflib.Graph()\n",
    "# g.parse(\"film_data.nt\", format=\"nt\")\n",
    "\n",
    "# len(g)"
   ]
  },
  {
   "cell_type": "code",
   "execution_count": null,
   "metadata": {
    "collapsed": true,
    "deletable": true,
    "editable": true
   },
   "outputs": [],
   "source": [
    "# import re\n",
    "\n",
    "# film_trope_dict = {}\n",
    "\n",
    "\n",
    "# for t_sub, t_obj in g.subject_objects(predicate=rdflib.URIRef('http://www.w3.org/1999/02/22-rdf-syntax-ns#type')):\n",
    "#     title = ''\n",
    "#     trope = ''\n",
    "#     try:\n",
    "#         title = re.match('http://dbtropes.org/resource/Film/([^/]*)', t_sub).groups()[0]\n",
    "#         trope = re.match('http://dbtropes.org/resource/Main/([^/]*)', t_obj).groups()[0]\n",
    "#         if title in film_trope_dict:\n",
    "#             film_trope_dict[title].append(trope)\n",
    "#         else:\n",
    "#             film_trope_dict[title] = [trope]\n",
    "#     except Exception:\n",
    "#         pass\n"
   ]
  },
  {
   "cell_type": "markdown",
   "metadata": {
    "deletable": true,
    "editable": true
   },
   "source": [
    "# Preparing the Database for Downstream Analysis\n",
    "\n",
    "## Trope Appearance Database"
   ]
  },
  {
   "cell_type": "code",
   "execution_count": 1,
   "metadata": {
    "collapsed": true,
    "deletable": true,
    "editable": true
   },
   "outputs": [],
   "source": [
    "from __future__ import print_function # Because the code was moved from Python 3 to 2\n",
    "import re\n",
    "\n",
    "import pickle\n",
    "import sqlite3\n",
    "\n",
    "import pandas as pd\n",
    "import matplotlib.pyplot as plt\n",
    "import numpy as np\n",
    "%matplotlib inline\n"
   ]
  },
  {
   "cell_type": "code",
   "execution_count": null,
   "metadata": {
    "collapsed": true,
    "deletable": true,
    "editable": true
   },
   "outputs": [],
   "source": [
    "## write python dict to film_trope_dict.pkl\n",
    "\n",
    "# output = open('film_trope_dict_python2.pkl', 'wb')\n",
    "# pickle.dump(film_trope_dict, output, protocol=2) # default protocol is 3 in Python 3, not supported in Python 2\n",
    "# output.close()"
   ]
  },
  {
   "cell_type": "code",
   "execution_count": 2,
   "metadata": {
    "collapsed": false,
    "deletable": true,
    "editable": true
   },
   "outputs": [],
   "source": [
    "# read python dict back from the file\n",
    "pkl_file = open('film_trope_dict_python2.pkl', 'rb')\n",
    "film_trope_dict = pickle.load(pkl_file)\n",
    "pkl_file.close()"
   ]
  },
  {
   "cell_type": "code",
   "execution_count": 3,
   "metadata": {
    "collapsed": false,
    "deletable": true,
    "editable": true
   },
   "outputs": [
    {
     "data": {
      "text/html": [
       "<div>\n",
       "<style>\n",
       "    .dataframe thead tr:only-child th {\n",
       "        text-align: right;\n",
       "    }\n",
       "\n",
       "    .dataframe thead th {\n",
       "        text-align: left;\n",
       "    }\n",
       "\n",
       "    .dataframe tbody tr th {\n",
       "        vertical-align: top;\n",
       "    }\n",
       "</style>\n",
       "<table border=\"1\" class=\"dataframe\">\n",
       "  <thead>\n",
       "    <tr style=\"text-align: right;\">\n",
       "      <th></th>\n",
       "      <th>title</th>\n",
       "      <th>trope</th>\n",
       "    </tr>\n",
       "  </thead>\n",
       "  <tbody>\n",
       "    <tr>\n",
       "      <th>0</th>\n",
       "      <td>ABeautifulMind</td>\n",
       "      <td>ScienceRelatedMemeticDisorder</td>\n",
       "    </tr>\n",
       "    <tr>\n",
       "      <th>1</th>\n",
       "      <td>ABeautifulMind</td>\n",
       "      <td>HollywoodNerd</td>\n",
       "    </tr>\n",
       "    <tr>\n",
       "      <th>2</th>\n",
       "      <td>ABeautifulMind</td>\n",
       "      <td>TheBigBoard</td>\n",
       "    </tr>\n",
       "    <tr>\n",
       "      <th>3</th>\n",
       "      <td>ABeautifulMind</td>\n",
       "      <td>MadMathematician</td>\n",
       "    </tr>\n",
       "    <tr>\n",
       "      <th>4</th>\n",
       "      <td>ABeautifulMind</td>\n",
       "      <td>EEqualsMCHammer</td>\n",
       "    </tr>\n",
       "  </tbody>\n",
       "</table>\n",
       "</div>"
      ],
      "text/plain": [
       "            title                          trope\n",
       "0  ABeautifulMind  ScienceRelatedMemeticDisorder\n",
       "1  ABeautifulMind                  HollywoodNerd\n",
       "2  ABeautifulMind                    TheBigBoard\n",
       "3  ABeautifulMind               MadMathematician\n",
       "4  ABeautifulMind                EEqualsMCHammer"
      ]
     },
     "execution_count": 3,
     "metadata": {},
     "output_type": "execute_result"
    }
   ],
   "source": [
    "def read_dict_to_df(input_dict):\n",
    "    '''Take a dict of {title : [list of tropes in this title], \n",
    "       return a DataFrame of all film-trope pairs with an arbituary index.\n",
    "       Each row of the DataFrame: autoincremented index, name of title, name of trope.'''\n",
    "    df = pd.DataFrame.from_dict(input_dict, orient =\"index\").sort_index().stack().reset_index(level=1, drop=True).reset_index()    \n",
    "    df.columns = ['title', 'trope']\n",
    "    return df\n",
    "\n",
    "# This database is the foundation of all analysis.\n",
    "film_trope_df = read_dict_to_df(film_trope_dict)\n",
    "film_trope_df.head()"
   ]
  },
  {
   "cell_type": "code",
   "execution_count": 4,
   "metadata": {
    "collapsed": false,
    "deletable": true,
    "editable": true
   },
   "outputs": [],
   "source": [
    "# Some string manipulation helper functions\n",
    "\n",
    "#import unidecode\n",
    "def strip_lowercase(text):\n",
    "    '''Strip spaces, capitalization, punctuation and accents from string, esp. movie titles.'''\n",
    "    # text = unidecode.unidecode(text) # dependency: unidecode\n",
    "    return re.sub(r'[^\\w]', '', text).lower()\n",
    "\n",
    "def add_space(text):\n",
    "    '''Add spaces between captalized words, for better display of trope and movie names in the output.\n",
    "       Spaces should be added just before the strings need to be outputted.'''\n",
    "    return re.sub(r\"\\B([A-Z]+)\", r\" \\1\", text)"
   ]
  },
  {
   "cell_type": "code",
   "execution_count": 5,
   "metadata": {
    "collapsed": false,
    "deletable": true,
    "editable": true
   },
   "outputs": [
    {
     "data": {
      "text/html": [
       "<div>\n",
       "<style>\n",
       "    .dataframe thead tr:only-child th {\n",
       "        text-align: right;\n",
       "    }\n",
       "\n",
       "    .dataframe thead th {\n",
       "        text-align: left;\n",
       "    }\n",
       "\n",
       "    .dataframe tbody tr th {\n",
       "        vertical-align: top;\n",
       "    }\n",
       "</style>\n",
       "<table border=\"1\" class=\"dataframe\">\n",
       "  <thead>\n",
       "    <tr style=\"text-align: right;\">\n",
       "      <th></th>\n",
       "      <th>title</th>\n",
       "      <th>trope</th>\n",
       "      <th>stripped_title</th>\n",
       "      <th>stripped_trope</th>\n",
       "    </tr>\n",
       "  </thead>\n",
       "  <tbody>\n",
       "    <tr>\n",
       "      <th>0</th>\n",
       "      <td>ABeautifulMind</td>\n",
       "      <td>ScienceRelatedMemeticDisorder</td>\n",
       "      <td>abeautifulmind</td>\n",
       "      <td>sciencerelatedmemeticdisorder</td>\n",
       "    </tr>\n",
       "    <tr>\n",
       "      <th>1</th>\n",
       "      <td>ABeautifulMind</td>\n",
       "      <td>HollywoodNerd</td>\n",
       "      <td>abeautifulmind</td>\n",
       "      <td>hollywoodnerd</td>\n",
       "    </tr>\n",
       "    <tr>\n",
       "      <th>2</th>\n",
       "      <td>ABeautifulMind</td>\n",
       "      <td>TheBigBoard</td>\n",
       "      <td>abeautifulmind</td>\n",
       "      <td>thebigboard</td>\n",
       "    </tr>\n",
       "    <tr>\n",
       "      <th>3</th>\n",
       "      <td>ABeautifulMind</td>\n",
       "      <td>MadMathematician</td>\n",
       "      <td>abeautifulmind</td>\n",
       "      <td>madmathematician</td>\n",
       "    </tr>\n",
       "    <tr>\n",
       "      <th>4</th>\n",
       "      <td>ABeautifulMind</td>\n",
       "      <td>EEqualsMCHammer</td>\n",
       "      <td>abeautifulmind</td>\n",
       "      <td>eequalsmchammer</td>\n",
       "    </tr>\n",
       "  </tbody>\n",
       "</table>\n",
       "</div>"
      ],
      "text/plain": [
       "            title                          trope  stripped_title  \\\n",
       "0  ABeautifulMind  ScienceRelatedMemeticDisorder  abeautifulmind   \n",
       "1  ABeautifulMind                  HollywoodNerd  abeautifulmind   \n",
       "2  ABeautifulMind                    TheBigBoard  abeautifulmind   \n",
       "3  ABeautifulMind               MadMathematician  abeautifulmind   \n",
       "4  ABeautifulMind                EEqualsMCHammer  abeautifulmind   \n",
       "\n",
       "                  stripped_trope  \n",
       "0  sciencerelatedmemeticdisorder  \n",
       "1                  hollywoodnerd  \n",
       "2                    thebigboard  \n",
       "3               madmathematician  \n",
       "4                eequalsmchammer  "
      ]
     },
     "execution_count": 5,
     "metadata": {},
     "output_type": "execute_result"
    }
   ],
   "source": [
    "pd.options.mode.chained_assignment = None # supress pd SettingWithCopyWarning\n",
    "film_trope_df['stripped_title'] = film_trope_df['title'].map(strip_lowercase, na_action='ignore')\n",
    "film_trope_df['stripped_trope'] = film_trope_df['trope'].map(strip_lowercase, na_action='ignore')\n",
    "film_trope_df.head()"
   ]
  },
  {
   "cell_type": "code",
   "execution_count": 6,
   "metadata": {
    "collapsed": true,
    "deletable": true,
    "editable": true
   },
   "outputs": [],
   "source": [
    "# # Make a SQL table of all title-trope pairs. Table name: 'title_trope'\n",
    "\n",
    "# import sqlite3\n",
    "# conn = sqlite3.connect('tv_tropes.db')\n",
    "# film_trope_df.to_sql('title_trope', conn, if_exists='fail', index=False, index_label=None, chunksize=None)\n",
    "# conn.close()"
   ]
  },
  {
   "cell_type": "code",
   "execution_count": 7,
   "metadata": {
    "collapsed": false,
    "deletable": true,
    "editable": true
   },
   "outputs": [
    {
     "data": {
      "text/html": [
       "<div>\n",
       "<style>\n",
       "    .dataframe thead tr:only-child th {\n",
       "        text-align: right;\n",
       "    }\n",
       "\n",
       "    .dataframe thead th {\n",
       "        text-align: left;\n",
       "    }\n",
       "\n",
       "    .dataframe tbody tr th {\n",
       "        vertical-align: top;\n",
       "    }\n",
       "</style>\n",
       "<table border=\"1\" class=\"dataframe\">\n",
       "  <thead>\n",
       "    <tr style=\"text-align: right;\">\n",
       "      <th></th>\n",
       "      <th>title</th>\n",
       "      <th>trope</th>\n",
       "      <th>stripped_title</th>\n",
       "      <th>stripped_trope</th>\n",
       "    </tr>\n",
       "  </thead>\n",
       "  <tbody>\n",
       "    <tr>\n",
       "      <th>0</th>\n",
       "      <td>ABeautifulMind</td>\n",
       "      <td>ScienceRelatedMemeticDisorder</td>\n",
       "      <td>abeautifulmind</td>\n",
       "      <td>sciencerelatedmemeticdisorder</td>\n",
       "    </tr>\n",
       "    <tr>\n",
       "      <th>1</th>\n",
       "      <td>ABeautifulMind</td>\n",
       "      <td>HollywoodNerd</td>\n",
       "      <td>abeautifulmind</td>\n",
       "      <td>hollywoodnerd</td>\n",
       "    </tr>\n",
       "    <tr>\n",
       "      <th>2</th>\n",
       "      <td>ABeautifulMind</td>\n",
       "      <td>TheBigBoard</td>\n",
       "      <td>abeautifulmind</td>\n",
       "      <td>thebigboard</td>\n",
       "    </tr>\n",
       "    <tr>\n",
       "      <th>3</th>\n",
       "      <td>ABeautifulMind</td>\n",
       "      <td>MadMathematician</td>\n",
       "      <td>abeautifulmind</td>\n",
       "      <td>madmathematician</td>\n",
       "    </tr>\n",
       "    <tr>\n",
       "      <th>4</th>\n",
       "      <td>ABeautifulMind</td>\n",
       "      <td>EEqualsMCHammer</td>\n",
       "      <td>abeautifulmind</td>\n",
       "      <td>eequalsmchammer</td>\n",
       "    </tr>\n",
       "    <tr>\n",
       "      <th>5</th>\n",
       "      <td>ABeautifulMind</td>\n",
       "      <td>TheReveal</td>\n",
       "      <td>abeautifulmind</td>\n",
       "      <td>thereveal</td>\n",
       "    </tr>\n",
       "    <tr>\n",
       "      <th>6</th>\n",
       "      <td>ABeautifulMind</td>\n",
       "      <td>Hallucinations</td>\n",
       "      <td>abeautifulmind</td>\n",
       "      <td>hallucinations</td>\n",
       "    </tr>\n",
       "    <tr>\n",
       "      <th>7</th>\n",
       "      <td>ABeautifulMind</td>\n",
       "      <td>GoodWithNumbers</td>\n",
       "      <td>abeautifulmind</td>\n",
       "      <td>goodwithnumbers</td>\n",
       "    </tr>\n",
       "    <tr>\n",
       "      <th>8</th>\n",
       "      <td>ABeautifulMind</td>\n",
       "      <td>TheLoinsSleepTonight</td>\n",
       "      <td>abeautifulmind</td>\n",
       "      <td>theloinssleeptonight</td>\n",
       "    </tr>\n",
       "    <tr>\n",
       "      <th>9</th>\n",
       "      <td>ABeautifulMind</td>\n",
       "      <td>ShoutOut</td>\n",
       "      <td>abeautifulmind</td>\n",
       "      <td>shoutout</td>\n",
       "    </tr>\n",
       "  </tbody>\n",
       "</table>\n",
       "</div>"
      ],
      "text/plain": [
       "            title                          trope  stripped_title  \\\n",
       "0  ABeautifulMind  ScienceRelatedMemeticDisorder  abeautifulmind   \n",
       "1  ABeautifulMind                  HollywoodNerd  abeautifulmind   \n",
       "2  ABeautifulMind                    TheBigBoard  abeautifulmind   \n",
       "3  ABeautifulMind               MadMathematician  abeautifulmind   \n",
       "4  ABeautifulMind                EEqualsMCHammer  abeautifulmind   \n",
       "5  ABeautifulMind                      TheReveal  abeautifulmind   \n",
       "6  ABeautifulMind                 Hallucinations  abeautifulmind   \n",
       "7  ABeautifulMind                GoodWithNumbers  abeautifulmind   \n",
       "8  ABeautifulMind           TheLoinsSleepTonight  abeautifulmind   \n",
       "9  ABeautifulMind                       ShoutOut  abeautifulmind   \n",
       "\n",
       "                  stripped_trope  \n",
       "0  sciencerelatedmemeticdisorder  \n",
       "1                  hollywoodnerd  \n",
       "2                    thebigboard  \n",
       "3               madmathematician  \n",
       "4                eequalsmchammer  \n",
       "5                      thereveal  \n",
       "6                 hallucinations  \n",
       "7                goodwithnumbers  \n",
       "8           theloinssleeptonight  \n",
       "9                       shoutout  "
      ]
     },
     "execution_count": 7,
     "metadata": {},
     "output_type": "execute_result"
    }
   ],
   "source": [
    "# Read SQL table and try out some queries\n",
    "\n",
    "conn = sqlite3.connect('tv_tropes.db')\n",
    "# cur = conn.cursor()  # Do not need cursor with pd.read_sql_query\n",
    "\n",
    "# query = '''SELECT title, trope FROM title_trope\n",
    "#            WHERE title = \"TheMatrix\"\n",
    "#            LIMIT 10;'''\n",
    "\n",
    "query = 'SELECT * FROM title_trope LIMIT 10'\n",
    "toy_df = pd.read_sql_query(query, conn)\n",
    "\n",
    "# Always close Connection and Cursor objects that are open when done.\n",
    "# This prevents the SQLite database from being locked, which may lead to update failure and errors.\n",
    "conn.close()\n",
    "\n",
    "toy_df"
   ]
  },
  {
   "cell_type": "markdown",
   "metadata": {},
   "source": [
    "# Movie Info Database"
   ]
  },
  {
   "cell_type": "code",
   "execution_count": 114,
   "metadata": {
    "collapsed": false,
    "deletable": true,
    "editable": true
   },
   "outputs": [],
   "source": [
    "def run_query(query, sql_db='tv_tropes.db', index_col=None, coerce_float=True,\n",
    "              params=None, parse_dates=None, chunksize=None):\n",
    "    '''Takes a SQL query(a string) and a database (a string of 'database_name.db') in which query \n",
    "       should be performed, run the query and return the query result as a pandas DataFrame.\n",
    "       Can use the same args as pd.read_sql_query().'''\n",
    "    \n",
    "    if not isinstance(query, basestring):\n",
    "        raise TypeError('query must be a string')\n",
    "    conn = sqlite3.connect(sql_db)\n",
    "    df = pd.read_sql_query(query, conn, index_col=index_col, coerce_float=coerce_float, \n",
    "                           params=params, parse_dates=parse_dates, chunksize=chunksize)\n",
    "    conn.close\n",
    "    return df"
   ]
  },
  {
   "cell_type": "code",
   "execution_count": 12,
   "metadata": {
    "collapsed": false,
    "deletable": true,
    "editable": true
   },
   "outputs": [
    {
     "data": {
      "text/html": [
       "<div>\n",
       "<style>\n",
       "    .dataframe thead tr:only-child th {\n",
       "        text-align: right;\n",
       "    }\n",
       "\n",
       "    .dataframe thead th {\n",
       "        text-align: left;\n",
       "    }\n",
       "\n",
       "    .dataframe tbody tr th {\n",
       "        vertical-align: top;\n",
       "    }\n",
       "</style>\n",
       "<table border=\"1\" class=\"dataframe\">\n",
       "  <thead>\n",
       "    <tr style=\"text-align: right;\">\n",
       "      <th></th>\n",
       "      <th>ID</th>\n",
       "      <th>imdbID</th>\n",
       "      <th>Title</th>\n",
       "      <th>Year</th>\n",
       "      <th>Rating</th>\n",
       "      <th>Runtime</th>\n",
       "      <th>Genre</th>\n",
       "      <th>Released</th>\n",
       "      <th>Director</th>\n",
       "      <th>Writer</th>\n",
       "      <th>Cast</th>\n",
       "      <th>Metacritic</th>\n",
       "      <th>imdbRating</th>\n",
       "      <th>imdbVotes</th>\n",
       "      <th>Language</th>\n",
       "      <th>Country</th>\n",
       "      <th>Awards</th>\n",
       "      <th>lastUpdated</th>\n",
       "      <th>Oscars</th>\n",
       "    </tr>\n",
       "  </thead>\n",
       "  <tbody>\n",
       "    <tr>\n",
       "      <th>0</th>\n",
       "      <td>4972</td>\n",
       "      <td>tt0004972</td>\n",
       "      <td>The Birth of a Nation</td>\n",
       "      <td>1915</td>\n",
       "      <td>Not Rated</td>\n",
       "      <td>165.0</td>\n",
       "      <td>Drama, History, Romance</td>\n",
       "      <td>1915-03-03</td>\n",
       "      <td>D.W. Griffith</td>\n",
       "      <td>Thomas F. Dixon Jr. (adapted from his novel: \"...</td>\n",
       "      <td>Lillian Gish, Mae Marsh, Henry B. Walthall, Mi...</td>\n",
       "      <td>NaN</td>\n",
       "      <td>6.9</td>\n",
       "      <td>13793.0</td>\n",
       "      <td>None</td>\n",
       "      <td>USA</td>\n",
       "      <td>1 win.</td>\n",
       "      <td>2014-03-31 02:13:23.440000000</td>\n",
       "      <td>0</td>\n",
       "    </tr>\n",
       "    <tr>\n",
       "      <th>1</th>\n",
       "      <td>6206</td>\n",
       "      <td>tt0006206</td>\n",
       "      <td>Les vampires</td>\n",
       "      <td>1915</td>\n",
       "      <td>Not Rated</td>\n",
       "      <td>399.0</td>\n",
       "      <td>Action, Adventure, Crime</td>\n",
       "      <td>1915-11-13</td>\n",
       "      <td>Louis Feuillade</td>\n",
       "      <td>Louis Feuillade</td>\n",
       "      <td>Musidora, Édouard Mathé, Marcel Lévesque, Jean...</td>\n",
       "      <td>NaN</td>\n",
       "      <td>6.6</td>\n",
       "      <td>2502.0</td>\n",
       "      <td>French</td>\n",
       "      <td>France</td>\n",
       "      <td>1 nomination.</td>\n",
       "      <td>2014-03-07 00:05:37.133000000</td>\n",
       "      <td>0</td>\n",
       "    </tr>\n",
       "    <tr>\n",
       "      <th>2</th>\n",
       "      <td>6864</td>\n",
       "      <td>tt0006864</td>\n",
       "      <td>Intolerance: Love's Struggle Throughout the Ages</td>\n",
       "      <td>1916</td>\n",
       "      <td>Not Rated</td>\n",
       "      <td>197.0</td>\n",
       "      <td>Drama, History</td>\n",
       "      <td>1916-09-05</td>\n",
       "      <td>D.W. Griffith</td>\n",
       "      <td>D.W. Griffith (scenario), Anita Loos (titles)</td>\n",
       "      <td>Lillian Gish, Spottiswoode Aitken, Mary Alden,...</td>\n",
       "      <td>NaN</td>\n",
       "      <td>8.0</td>\n",
       "      <td>8673.0</td>\n",
       "      <td>None</td>\n",
       "      <td>USA</td>\n",
       "      <td>1 win.</td>\n",
       "      <td>2014-03-27 01:05:04.920000000</td>\n",
       "      <td>0</td>\n",
       "    </tr>\n",
       "  </tbody>\n",
       "</table>\n",
       "</div>"
      ],
      "text/plain": [
       "     ID     imdbID                                             Title  Year  \\\n",
       "0  4972  tt0004972                             The Birth of a Nation  1915   \n",
       "1  6206  tt0006206                                      Les vampires  1915   \n",
       "2  6864  tt0006864  Intolerance: Love's Struggle Throughout the Ages  1916   \n",
       "\n",
       "      Rating  Runtime                     Genre    Released         Director  \\\n",
       "0  Not Rated    165.0   Drama, History, Romance  1915-03-03    D.W. Griffith   \n",
       "1  Not Rated    399.0  Action, Adventure, Crime  1915-11-13  Louis Feuillade   \n",
       "2  Not Rated    197.0            Drama, History  1916-09-05    D.W. Griffith   \n",
       "\n",
       "                                              Writer  \\\n",
       "0  Thomas F. Dixon Jr. (adapted from his novel: \"...   \n",
       "1                                    Louis Feuillade   \n",
       "2      D.W. Griffith (scenario), Anita Loos (titles)   \n",
       "\n",
       "                                                Cast  Metacritic  imdbRating  \\\n",
       "0  Lillian Gish, Mae Marsh, Henry B. Walthall, Mi...         NaN         6.9   \n",
       "1  Musidora, Édouard Mathé, Marcel Lévesque, Jean...         NaN         6.6   \n",
       "2  Lillian Gish, Spottiswoode Aitken, Mary Alden,...         NaN         8.0   \n",
       "\n",
       "   imdbVotes Language Country         Awards                    lastUpdated  \\\n",
       "0    13793.0     None     USA         1 win.  2014-03-31 02:13:23.440000000   \n",
       "1     2502.0   French  France  1 nomination.  2014-03-07 00:05:37.133000000   \n",
       "2     8673.0     None     USA         1 win.  2014-03-27 01:05:04.920000000   \n",
       "\n",
       "   Oscars  \n",
       "0       0  \n",
       "1       0  \n",
       "2       0  "
      ]
     },
     "execution_count": 12,
     "metadata": {},
     "output_type": "execute_result"
    }
   ],
   "source": [
    "# Extract omdb table from bokeh sample database movies.db\n",
    "\n",
    "query = '''SELECT * FROM omdb;'''\n",
    "omdb_df = run_query(query, 'movies.db')\n",
    "omdb_df.head(3)"
   ]
  },
  {
   "cell_type": "code",
   "execution_count": 13,
   "metadata": {
    "collapsed": false,
    "deletable": true,
    "editable": true
   },
   "outputs": [
    {
     "data": {
      "text/html": [
       "<div>\n",
       "<style>\n",
       "    .dataframe thead tr:only-child th {\n",
       "        text-align: right;\n",
       "    }\n",
       "\n",
       "    .dataframe thead th {\n",
       "        text-align: left;\n",
       "    }\n",
       "\n",
       "    .dataframe tbody tr th {\n",
       "        vertical-align: top;\n",
       "    }\n",
       "</style>\n",
       "<table border=\"1\" class=\"dataframe\">\n",
       "  <thead>\n",
       "    <tr style=\"text-align: right;\">\n",
       "      <th></th>\n",
       "      <th>ID</th>\n",
       "      <th>imdbID</th>\n",
       "      <th>Title</th>\n",
       "      <th>Year</th>\n",
       "      <th>Rating</th>\n",
       "      <th>Runtime</th>\n",
       "      <th>Genre</th>\n",
       "      <th>Released</th>\n",
       "      <th>Director</th>\n",
       "      <th>Writer</th>\n",
       "      <th>Cast</th>\n",
       "      <th>Metacritic</th>\n",
       "      <th>imdbRating</th>\n",
       "      <th>imdbVotes</th>\n",
       "      <th>Language</th>\n",
       "      <th>Country</th>\n",
       "      <th>Awards</th>\n",
       "      <th>lastUpdated</th>\n",
       "      <th>Oscars</th>\n",
       "      <th>stripped_title</th>\n",
       "    </tr>\n",
       "  </thead>\n",
       "  <tbody>\n",
       "    <tr>\n",
       "      <th>0</th>\n",
       "      <td>4972</td>\n",
       "      <td>tt0004972</td>\n",
       "      <td>The Birth of a Nation</td>\n",
       "      <td>1915</td>\n",
       "      <td>Not Rated</td>\n",
       "      <td>165.0</td>\n",
       "      <td>Drama, History, Romance</td>\n",
       "      <td>1915-03-03</td>\n",
       "      <td>D.W. Griffith</td>\n",
       "      <td>Thomas F. Dixon Jr. (adapted from his novel: \"...</td>\n",
       "      <td>Lillian Gish, Mae Marsh, Henry B. Walthall, Mi...</td>\n",
       "      <td>NaN</td>\n",
       "      <td>6.9</td>\n",
       "      <td>13793.0</td>\n",
       "      <td>None</td>\n",
       "      <td>USA</td>\n",
       "      <td>1 win.</td>\n",
       "      <td>2014-03-31 02:13:23.440000000</td>\n",
       "      <td>0</td>\n",
       "      <td>thebirthofanation</td>\n",
       "    </tr>\n",
       "    <tr>\n",
       "      <th>1</th>\n",
       "      <td>6206</td>\n",
       "      <td>tt0006206</td>\n",
       "      <td>Les vampires</td>\n",
       "      <td>1915</td>\n",
       "      <td>Not Rated</td>\n",
       "      <td>399.0</td>\n",
       "      <td>Action, Adventure, Crime</td>\n",
       "      <td>1915-11-13</td>\n",
       "      <td>Louis Feuillade</td>\n",
       "      <td>Louis Feuillade</td>\n",
       "      <td>Musidora, Édouard Mathé, Marcel Lévesque, Jean...</td>\n",
       "      <td>NaN</td>\n",
       "      <td>6.6</td>\n",
       "      <td>2502.0</td>\n",
       "      <td>French</td>\n",
       "      <td>France</td>\n",
       "      <td>1 nomination.</td>\n",
       "      <td>2014-03-07 00:05:37.133000000</td>\n",
       "      <td>0</td>\n",
       "      <td>lesvampires</td>\n",
       "    </tr>\n",
       "    <tr>\n",
       "      <th>2</th>\n",
       "      <td>6864</td>\n",
       "      <td>tt0006864</td>\n",
       "      <td>Intolerance: Love's Struggle Throughout the Ages</td>\n",
       "      <td>1916</td>\n",
       "      <td>Not Rated</td>\n",
       "      <td>197.0</td>\n",
       "      <td>Drama, History</td>\n",
       "      <td>1916-09-05</td>\n",
       "      <td>D.W. Griffith</td>\n",
       "      <td>D.W. Griffith (scenario), Anita Loos (titles)</td>\n",
       "      <td>Lillian Gish, Spottiswoode Aitken, Mary Alden,...</td>\n",
       "      <td>NaN</td>\n",
       "      <td>8.0</td>\n",
       "      <td>8673.0</td>\n",
       "      <td>None</td>\n",
       "      <td>USA</td>\n",
       "      <td>1 win.</td>\n",
       "      <td>2014-03-27 01:05:04.920000000</td>\n",
       "      <td>0</td>\n",
       "      <td>intolerancelovesstrugglethroughouttheages</td>\n",
       "    </tr>\n",
       "  </tbody>\n",
       "</table>\n",
       "</div>"
      ],
      "text/plain": [
       "     ID     imdbID                                             Title  Year  \\\n",
       "0  4972  tt0004972                             The Birth of a Nation  1915   \n",
       "1  6206  tt0006206                                      Les vampires  1915   \n",
       "2  6864  tt0006864  Intolerance: Love's Struggle Throughout the Ages  1916   \n",
       "\n",
       "      Rating  Runtime                     Genre    Released         Director  \\\n",
       "0  Not Rated    165.0   Drama, History, Romance  1915-03-03    D.W. Griffith   \n",
       "1  Not Rated    399.0  Action, Adventure, Crime  1915-11-13  Louis Feuillade   \n",
       "2  Not Rated    197.0            Drama, History  1916-09-05    D.W. Griffith   \n",
       "\n",
       "                                              Writer  \\\n",
       "0  Thomas F. Dixon Jr. (adapted from his novel: \"...   \n",
       "1                                    Louis Feuillade   \n",
       "2      D.W. Griffith (scenario), Anita Loos (titles)   \n",
       "\n",
       "                                                Cast  Metacritic  imdbRating  \\\n",
       "0  Lillian Gish, Mae Marsh, Henry B. Walthall, Mi...         NaN         6.9   \n",
       "1  Musidora, Édouard Mathé, Marcel Lévesque, Jean...         NaN         6.6   \n",
       "2  Lillian Gish, Spottiswoode Aitken, Mary Alden,...         NaN         8.0   \n",
       "\n",
       "   imdbVotes Language Country         Awards                    lastUpdated  \\\n",
       "0    13793.0     None     USA         1 win.  2014-03-31 02:13:23.440000000   \n",
       "1     2502.0   French  France  1 nomination.  2014-03-07 00:05:37.133000000   \n",
       "2     8673.0     None     USA         1 win.  2014-03-27 01:05:04.920000000   \n",
       "\n",
       "   Oscars                             stripped_title  \n",
       "0       0                          thebirthofanation  \n",
       "1       0                                lesvampires  \n",
       "2       0  intolerancelovesstrugglethroughouttheages  "
      ]
     },
     "execution_count": 13,
     "metadata": {},
     "output_type": "execute_result"
    }
   ],
   "source": [
    "omdb_df['stripped_title'] = omdb_df['Title'].map(strip_lowercase, na_action='ignore')\n",
    "omdb_df.head(3)"
   ]
  },
  {
   "cell_type": "code",
   "execution_count": 30,
   "metadata": {
    "collapsed": false,
    "deletable": true,
    "editable": true
   },
   "outputs": [],
   "source": [
    "# # Make a SQL table of omdb movie info in tv_tropes.db. Table name: 'omdb'\n",
    "\n",
    "# conn = sqlite3.connect('tv_tropes.db')\n",
    "# omdb_df.to_sql('omdb', conn, if_exists='fail', index=False, index_label=None, chunksize=None)\n",
    "# conn.close()"
   ]
  },
  {
   "cell_type": "code",
   "execution_count": 169,
   "metadata": {
    "collapsed": false,
    "deletable": true,
    "editable": true
   },
   "outputs": [
    {
     "name": "stdout",
     "output_type": "stream",
     "text": [
      "[u'Action', u'Adventure', u'Animation', u'Biography', u'Comedy', u'Crime', u'Documentary', u'Drama', u'Family', u'Fantasy', u'Film-Noir', u'History', u'Horror', u'Music', u'Musical', u'Mystery', u'News', u'Romance', u'Sci-Fi', u'Short', u'Sport', u'Thriller', u'War', u'Western']\n"
     ]
    }
   ],
   "source": [
    "# Getting a list of all possible genres\n",
    "# Caution: this list has an u'Adult' genre\n",
    "\n",
    "# def parse_genres(genres):\n",
    "#     '''Take a string of genres separated by ', ', return a list of genres'''\n",
    "#     regex = re.compile(r'([\\w-]+)(?:$|, )')\n",
    "#     return re.findall(regex, genres)\n",
    "\n",
    "def split_str(input_str):\n",
    "    '''Take a string with the format 'A, B, C', return a list ['A', 'B', 'C']/'''\n",
    "    regex = re.compile(r'([\\w-]+)(?:$|, )')\n",
    "    return re.findall(regex, genres)\n",
    "\n",
    "def get_genre_list():\n",
    "    '''Return a list of all possible genres in omdb table.'''\n",
    "    result = set()\n",
    "    q = 'SELECT Genre FROM omdb;'\n",
    "    temp_df = run_query(q, 'tv_tropes.db')\n",
    "    for g in temp_df['Genre'].dropna().unique():\n",
    "        result.update(re.split(', ', g))\n",
    "    return list(result)\n",
    "\n",
    "GENRE_LIST = get_genre_list()\n",
    "GENRE_LIST.sort()\n",
    "GENRE_LIST.remove(u'Adult')  # not going to deal with this\n",
    "print(GENRE_LIST)"
   ]
  },
  {
   "cell_type": "markdown",
   "metadata": {
    "deletable": true,
    "editable": true
   },
   "source": [
    "## (Now Obsolete) using IMDB 5000 Database\n",
    "Originally I planned to use IMDbPy API, but it turned out to be not as straight forward as I expected. I then decided to use the [Kaggle IMDB 5000 Movie Database](https://www.kaggle.com/deepmatrix/imdb-5000-movie-dataset) instead. \n",
    "\n",
    "The database, a csv file **movie_metadata.csv**, comes from web scrapping. 28 column names:\n",
    "\n",
    "\"movie_title\" \"color\" \"num_critic_for_reviews\" \"movie_facebook_likes\" \"duration\" \"director_name\" \"director_facebook_likes\" \"actor_3_name\" \"actor_3_facebook_likes\" \"actor_2_name\" \"actor_2_facebook_likes\" \"actor_1_name\" \"actor_1_facebook_likes\" \"gross\" \"genres\" \"num_voted_users\" \"cast_total_facebook_likes\" \"facenumber_in_poster\" \"plot_keywords\" \"movie_imdb_link\" \"num_user_for_reviews\" \"language\" \"country\" \"content_rating\" \"budget\" \"title_year\" \"imdb_score\" \"aspect_ratio\"\n",
    "\n",
    "**Note: sadly, later I found this database was smaller than Bokeh movie sample database.**"
   ]
  },
  {
   "cell_type": "code",
   "execution_count": null,
   "metadata": {
    "collapsed": false,
    "deletable": true,
    "editable": true
   },
   "outputs": [],
   "source": [
    "# imdb5000 = pd.read_csv('movie_metadata.csv', encoding='utf-8')\n",
    "# imdb5000.head(10)"
   ]
  },
  {
   "cell_type": "code",
   "execution_count": null,
   "metadata": {
    "collapsed": false,
    "deletable": true,
    "editable": true
   },
   "outputs": [],
   "source": [
    "# movie_info_df = imdb5000[['movie_title', 'genres', 'title_year', 'imdb_score', 'director_name', \n",
    "#                            'gross', 'budget', 'content_rating', 'movie_imdb_link']]\n",
    "# movie_info_df.head()"
   ]
  },
  {
   "cell_type": "code",
   "execution_count": null,
   "metadata": {
    "collapsed": false,
    "deletable": true,
    "editable": true
   },
   "outputs": [],
   "source": [
    "# # Some imdb helper functions\n",
    "\n",
    "# def find_imdb_id(link):\n",
    "#     '''Take a string of an IMDB link url, and return the IMDB ID of this movie (tt[\\d]*7)'''\n",
    "#     regex = re.compile(r':?title/(tt[\\d]*)/\\?ref')\n",
    "#     return re.findall(regex, link)[0]\n",
    "\n",
    "# def parse_genres_5000(genres):\n",
    "#     '''Take a string of genres separated by |, return a list of genres'''\n",
    "#     regex = re.compile(r'([\\w-]+)(?:$|\\|)')\n",
    "#     return re.findall(regex, genres)"
   ]
  },
  {
   "cell_type": "code",
   "execution_count": null,
   "metadata": {
    "collapsed": false,
    "deletable": true,
    "editable": true
   },
   "outputs": [],
   "source": [
    "# movie_info_df['imdb_id'] = movie_info_df['movie_imdb_link'].map(find_imdb_id, na_action='ignore')\n",
    "# movie_info_df['stripped_title'] = movie_info_df['movie_title'].map(strip_lowercase, na_action='ignore')\n",
    "\n",
    "# movie_info_df.drop('movie_imdb_link', axis=1, inplace=True)\n",
    "# movie_info_df.set_index('imdb_id', inplace=True)\n",
    "# movie_info_df.head()"
   ]
  },
  {
   "cell_type": "code",
   "execution_count": null,
   "metadata": {
    "collapsed": false,
    "deletable": true,
    "editable": true
   },
   "outputs": [],
   "source": [
    "# # Make a SQL table of movie info. Table name: 'movie_info'\n",
    "\n",
    "# conn = sqlite3.connect('tv_tropes.db')\n",
    "# movie_info_df.to_sql('movie_info', conn, if_exists='fail', index=False, index_label=None, chunksize=None)\n",
    "# conn.close()"
   ]
  },
  {
   "cell_type": "code",
   "execution_count": null,
   "metadata": {
    "collapsed": false,
    "deletable": true,
    "editable": true
   },
   "outputs": [],
   "source": [
    "# # Test: read SQL table of movie info\n",
    "\n",
    "# conn = sqlite3.connect('tv_tropes.db')\n",
    "\n",
    "# query = 'SELECT * FROM movie_info LIMIT 3;'\n",
    "# print(pd.read_sql_query(query, conn))\n",
    "\n",
    "# # Always close Connection and Cursor objects that are open when done.\n",
    "# # This prevents the SQLite database from being locked, which may lead to update failure and errors.\n",
    "# conn.close()"
   ]
  },
  {
   "cell_type": "code",
   "execution_count": null,
   "metadata": {
    "collapsed": false
   },
   "outputs": [],
   "source": [
    "# # Join tables: film_trope, movie_info\n",
    "\n",
    "# query = '''SELECT * FROM title_trope as t\n",
    "#            JOIN movie_info as m\n",
    "#            ON t.stripped_title = m.stripped_title;'''\n",
    "# movie_joined = run_query(query)\n",
    "# len(movie_joined['title'].unique())\n",
    "\n",
    "# # Output: 2143 (titles sucessfully joined)\n",
    "# # Bokeh sample database is able to join 3840"
   ]
  },
  {
   "cell_type": "markdown",
   "metadata": {
    "deletable": true,
    "editable": true
   },
   "source": [
    "# (Now Obsolete) Using IMDbPY"
   ]
  },
  {
   "cell_type": "code",
   "execution_count": null,
   "metadata": {
    "collapsed": true,
    "deletable": true,
    "editable": true
   },
   "outputs": [],
   "source": [
    "# # In case imdb is not imported correctly\n",
    "# # In python CLI, import imdb, print imdb.__path__, and add to sys.path in jupyter\n",
    "\n",
    "# import sys\n",
    "# sys.path.append() # insert module path\n",
    "# print(sys.path)"
   ]
  },
  {
   "cell_type": "code",
   "execution_count": null,
   "metadata": {
    "collapsed": false,
    "deletable": true,
    "editable": true
   },
   "outputs": [],
   "source": [
    "# # The problem with IMDbPY is, it is difficult to get the movie object from the title.\n",
    "# # And sometime an error of 'How did you gey here?' will occur\n",
    "\n",
    "# from imdb import IMDb\n",
    "    \n",
    "# # Create the object that will be used to access the IMDb's database.\n",
    "# ia = IMDb(accessSystem='http')"
   ]
  },
  {
   "cell_type": "code",
   "execution_count": null,
   "metadata": {
    "collapsed": false,
    "deletable": true,
    "editable": true
   },
   "outputs": [],
   "source": [
    "# the_matrix = ia.get_movie('0133093')\n",
    "# #print the_matrix['director']\n"
   ]
  },
  {
   "cell_type": "code",
   "execution_count": null,
   "metadata": {
    "collapsed": false,
    "deletable": true,
    "editable": true
   },
   "outputs": [],
   "source": [
    "# print(the_matrix['title'], the_matrix['year'], the_matrix['genre'], the_matrix['rating'], the_matrix['top 250 rank'])"
   ]
  },
  {
   "cell_type": "markdown",
   "metadata": {
    "deletable": true,
    "editable": true
   },
   "source": [
    "# Plotting"
   ]
  },
  {
   "cell_type": "code",
   "execution_count": 80,
   "metadata": {
    "collapsed": false,
    "deletable": true,
    "editable": true
   },
   "outputs": [],
   "source": [
    "# Matplotlib style config\n",
    "plt.rcParams.update(plt.rcParamsDefault) # reset\n",
    "plt.style.use('seaborn-pastel')\n",
    "\n",
    "plt.rcParams['axes.spines.top'] = False\n",
    "plt.rcParams['axes.spines.right'] = False\n",
    "plt.rcParams['axes.spines.left'] = False\n",
    "plt.rcParams['axes.spines.bottom'] = False\n",
    "\n",
    "# plt.rcParams['figure.figsize'] = 8, 5\n",
    "# plt.rcParams['font.size'] = 10\n",
    "# plt.rcParams['axes.labelsize'] = 10\n",
    "# plt.rcParams['axes.labelweight'] = 'bold'\n",
    "# plt.rcParams['xtick.labelsize'] = 8\n",
    "# plt.rcParams['ytick.labelsize'] = 8\n",
    "# plt.rcParams['legend.fontsize'] = 10\n",
    "# plt.rcParams['figure.titlesize'] = 12"
   ]
  },
  {
   "cell_type": "code",
   "execution_count": 83,
   "metadata": {
    "collapsed": false
   },
   "outputs": [
    {
     "data": {
      "text/plain": [
       "[<matplotlib.lines.Line2D at 0x7f51567f19d0>]"
      ]
     },
     "execution_count": 83,
     "metadata": {},
     "output_type": "execute_result"
    },
    {
     "data": {
      "image/png": "[encoded data removed]",
      "text/plain": [
       "<matplotlib.figure.Figure at 0x7f5156874c90>"
      ]
     },
     "metadata": {},
     "output_type": "display_data"
    }
   ],
   "source": [
    "plt.plot([1,2,3,4], [1,4,9,16])\n",
    "plt.plot([1,2,3,4], [2,4,8,10])\n",
    "plt.plot([1,2,3,4], [4,3,2,1])"
   ]
  },
  {
   "cell_type": "markdown",
   "metadata": {},
   "source": [
    "## Popular Tropes in Each Genre"
   ]
  },
  {
   "cell_type": "code",
   "execution_count": 184,
   "metadata": {
    "collapsed": true
   },
   "outputs": [],
   "source": [
    "# SQL dababase: tv_tropes.db\n",
    "# movie-trope table: 'title_trope'\n",
    "# movie info table: 'omdb'\n",
    "\n",
    "def get_trope_counts_by_genre(genre_exp):\n",
    "    '''Return a pd.DataFrame containing counts of trope appearance.\n",
    "       genre_exp: a single string (eg. '%Action%') used to match genre info, omdb.Genre LIKE genre_exp.\n",
    "       genre_exp can be writted to match multiple genres (in alphabetical order) in the same movie, \n",
    "       eg. '%Action%Horror%'\n",
    "       Result DataFrame columns: ['trope', 'stripped_trope', 'trope_count'], sorted by trope_count (desc).\n",
    "       Trope frequency will be calculated with pandas outside of this funtion.       \n",
    "    '''\n",
    "    \n",
    "    genre_query = '''SELECT trope, stripped_trope, COUNT(stripped_trope) as trope_count\n",
    "                 FROM (SELECT * FROM title_trope AS t\n",
    "                       JOIN omdb AS o\n",
    "                       ON t.stripped_title = o.stripped_title\n",
    "                       WHERE o.Genre LIKE ?)\n",
    "                 GROUP BY stripped_trope\n",
    "                 ORDER BY trope_count DESC; \n",
    "                 '''\n",
    "    return run_query(genre_query, params=(genre_exp,))"
   ]
  },
  {
   "cell_type": "code",
   "execution_count": 185,
   "metadata": {
    "collapsed": false
   },
   "outputs": [
    {
     "data": {
      "text/html": [
       "<div>\n",
       "<style>\n",
       "    .dataframe thead tr:only-child th {\n",
       "        text-align: right;\n",
       "    }\n",
       "\n",
       "    .dataframe thead th {\n",
       "        text-align: left;\n",
       "    }\n",
       "\n",
       "    .dataframe tbody tr th {\n",
       "        vertical-align: top;\n",
       "    }\n",
       "</style>\n",
       "<table border=\"1\" class=\"dataframe\">\n",
       "  <thead>\n",
       "    <tr style=\"text-align: right;\">\n",
       "      <th></th>\n",
       "      <th>trope</th>\n",
       "      <th>stripped_trope</th>\n",
       "      <th>trope_count</th>\n",
       "    </tr>\n",
       "  </thead>\n",
       "  <tbody>\n",
       "    <tr>\n",
       "      <th>0</th>\n",
       "      <td>ShoutOut</td>\n",
       "      <td>shoutout</td>\n",
       "      <td>326</td>\n",
       "    </tr>\n",
       "    <tr>\n",
       "      <th>1</th>\n",
       "      <td>ChekhovsGun</td>\n",
       "      <td>chekhovsgun</td>\n",
       "      <td>277</td>\n",
       "    </tr>\n",
       "    <tr>\n",
       "      <th>2</th>\n",
       "      <td>OhCrap</td>\n",
       "      <td>ohcrap</td>\n",
       "      <td>244</td>\n",
       "    </tr>\n",
       "    <tr>\n",
       "      <th>3</th>\n",
       "      <td>BigBad</td>\n",
       "      <td>bigbad</td>\n",
       "      <td>217</td>\n",
       "    </tr>\n",
       "    <tr>\n",
       "      <th>4</th>\n",
       "      <td>LargeHam</td>\n",
       "      <td>largeham</td>\n",
       "      <td>188</td>\n",
       "    </tr>\n",
       "  </tbody>\n",
       "</table>\n",
       "</div>"
      ],
      "text/plain": [
       "         trope stripped_trope  trope_count\n",
       "0     ShoutOut       shoutout          326\n",
       "1  ChekhovsGun    chekhovsgun          277\n",
       "2       OhCrap         ohcrap          244\n",
       "3       BigBad         bigbad          217\n",
       "4     LargeHam       largeham          188"
      ]
     },
     "execution_count": 185,
     "metadata": {},
     "output_type": "execute_result"
    }
   ],
   "source": [
    "action_df = get_trope_counts_by_genre('%Action%')\n",
    "action_df.head()"
   ]
  },
  {
   "cell_type": "code",
   "execution_count": 200,
   "metadata": {
    "collapsed": false
   },
   "outputs": [
    {
     "data": {
      "text/plain": [
       "<matplotlib.text.Text at 0x7f51336f6d10>"
      ]
     },
     "execution_count": 200,
     "metadata": {},
     "output_type": "execute_result"
    },
    {
     "data": {
      "image/png": "[encoded data removed]",
      "text/plain": [
       "<matplotlib.figure.Figure at 0x7f5156b89450>"
      ]
     },
     "metadata": {},
     "output_type": "display_data"
    }
   ],
   "source": [
    "# Plot testing\n",
    "# GENRE_LIST: a list of all possible genres\n",
    "\n",
    "total_counts = action_df['trope_count'].sum()\n",
    "action_df['trope_freq'] = action_df['trope_count'] / total_counts\n",
    "\n",
    "fig, ax = plt.subplots()\n",
    "y_pos = np.arange(10)\n",
    "ax.barh(y_pos, action_df.iloc[:10]['trope_freq'])\n",
    "ax.set_yticks(y_pos)\n",
    "ax.set_yticklabels(action_df.iloc[:10]['trope'])\n",
    "ax.invert_yaxis()  # labels read top-to-bottom\n",
    "ax.set_xlabel('Trope Frequency')\n",
    "ax.set_title('Top 10 Tropes in Genre - Action')"
   ]
  },
  {
   "cell_type": "markdown",
   "metadata": {
    "deletable": true,
    "editable": true
   },
   "source": [
    "# ---- Everything below is not reviewed yet ----"
   ]
  },
  {
   "cell_type": "code",
   "execution_count": null,
   "metadata": {
    "collapsed": true,
    "deletable": true,
    "editable": true
   },
   "outputs": [],
   "source": [
    "# Counting the frequency of each trope\n",
    "\n",
    "total_counts = pd.DataFrame(film_trope_df['trope'].value_counts()).reset_index()\n",
    "total_counts.columns = ['trope', 'counts']"
   ]
  },
  {
   "cell_type": "code",
   "execution_count": null,
   "metadata": {
    "collapsed": true,
    "deletable": true,
    "editable": true
   },
   "outputs": [],
   "source": [
    "# # Function to plot the distribution of the count frequency.\n",
    "# # ax: where to plot\n",
    "# # df: sorted DataFrame of frequencies, with an autoincrement index\n",
    "# # col_data: name of the column that contains the counts\n",
    "# # title, xlabel, ylabel: figure labels\n",
    "\n",
    "# def plot_counts_dist(ax, df, col_data, title, xlabel='Trope Rank (within group)', ylabel='Trope Frequency (%)'):\n",
    "#     counts_sum = df[col_data].sum()\n",
    "    \n",
    "    \n",
    "#     ax.fill_between(x = df.index, y1 = df[col_data] / counts_sum * 100, y2 = 0, color = 'b', alpha = 0.5)\n",
    "\n",
    "#     ax.spines['top'].set_visible(False)\n",
    "#     ax.spines['right'].set_visible(False)\n",
    "#     ax.spines['left'].set_visible(False)\n",
    "#     ax.spines['bottom'].set_visible(False)\n",
    "#     ax.yaxis.set_ticks_position('left')\n",
    "#     ax.xaxis.set_ticks_position('bottom')\n",
    "\n",
    "#     ax.set_xlim(0, len(df))\n",
    "#     ax.set_xticks(np.array([0, 0.25, 0.5, 0.75, 1]) * len(df))\n",
    "\n",
    "#     ax.set_xlabel(xlabel)\n",
    "#     ax.set_ylabel(ylabel)\n",
    "#     ax.set_title(title)\n",
    "\n",
    "\n",
    "# fig, ax = plt.subplots()\n",
    "# plot_counts_dist(ax, total_counts, 'counts', title = 'Distribution of Trope Frequencies \\nAmong All Films in DBtropes')"
   ]
  },
  {
   "cell_type": "code",
   "execution_count": null,
   "metadata": {
    "collapsed": true,
    "deletable": true,
    "editable": true
   },
   "outputs": [],
   "source": [
    "# Function to plot the cumulative distribution of the count frequency.\n",
    "# ax: where to plot\n",
    "# df: sorted DataFrame of frequencies, with an autoincrement index\n",
    "# col_data: name of the column that contains the counts\n",
    "# title, xlabel, ylabel: figure labels\n",
    "\n",
    "def plot_counts_cumsum(ax, df, col_data, title, xlabel='Ranks of Tropes (within group)', ylabel='Trope Frequency (%)'):\n",
    "    counts_sum = df[col_data].sum()\n",
    "    cumsum_df = df[col_data].cumsum() / counts_sum * 100\n",
    "    \n",
    "    ax.plot(cumsum_df, color = 'b', alpha = 0.5)\n",
    "    \n",
    "    # add lines at 10% total trope population\n",
    "    px = round(0.1 * len(cumsum_df))\n",
    "    py = cumsum_df.loc[px]\n",
    "    ax.plot([px, px], [0, py], 'r:', marker = 'o', alpha = 0.5)\n",
    "    ax.plot([0, px], [py, py], 'r:', marker = 'o', alpha = 0.5)\n",
    "    \n",
    "    \n",
    "    ax.spines['top'].set_visible(False)\n",
    "    ax.spines['right'].set_visible(False)\n",
    "    ax.spines['left'].set_visible(False)\n",
    "    ax.yaxis.set_ticks_position('left')\n",
    "    ax.xaxis.set_ticks_position('bottom')\n",
    "\n",
    "    ax.set_xlim(0, len(df))\n",
    "    ax.set_xticks(np.array([0, 0.25, 0.5, 0.75, 1]) * len(df))\n",
    "    ax.set_yticks(np.arange(0, 110, 10))\n",
    "\n",
    "    ax.set_xlabel(xlabel)\n",
    "    ax.set_ylabel(ylabel)\n",
    "    ax.set_title(title)\n",
    "\n",
    "\n",
    "fig, ax = plt.subplots()\n",
    "plot_counts_cumsum(ax, total_counts, 'counts', title = 'Cumulative Distribution of Trope Frequencies \\nAmong All Films in DBtropes')\n",
    "fig.text(0.25, 0.55, 'top 10% of tropes within group')"
   ]
  },
  {
   "cell_type": "code",
   "execution_count": null,
   "metadata": {
    "collapsed": true,
    "deletable": true,
    "editable": true
   },
   "outputs": [],
   "source": [
    "# Function to plot a 'histogram' of top frequencies\n",
    "# ax: where to plot the figure\n",
    "# df: sorted DataFrame of frequencies, with an autoincrement index\n",
    "# col_label: name of the column that contains the trope labels \n",
    "# col_data: name of the column that contains the counts\n",
    "# n: number of tropes to be shown, default 25\n",
    "# title, xlabel, ylabel: figure labels\n",
    "# color, alpha: bar appearance, default color = blue, alpha = 0.5\n",
    "# flip_x: flip x axis, default False\n",
    "\n",
    "def plot_counts(ax, df, col_label, col_data, title, xlabel='Counts', ylabel='Tropes', \n",
    "                color='blue', alpha=0.5, n=25, flip_x=False):\n",
    "    new = df.head(n)\n",
    "        \n",
    "    ax.barh(new.index, new[col_data], color=color, alpha=alpha, align='center')\n",
    "    ax.set_yticks(np.arange(len(new[col_label])))\n",
    "    ax.set_yticklabels(new[col_label])\n",
    "    ax.set_ylim(-1, len(new[col_label]))\n",
    "    ax.invert_yaxis()\n",
    "\n",
    "    if flip_x:\n",
    "        ax.invert_xaxis()\n",
    "        ax.spines['bottom'].set_visible(False)\n",
    "        ax.spines['left'].set_visible(False)\n",
    "        ax.yaxis.set_ticks_position('right')\n",
    "        ax.xaxis.set_ticks_position('top')\n",
    "    else:\n",
    "        ax.spines['bottom'].set_visible(False)\n",
    "        ax.spines['right'].set_visible(False)\n",
    "        ax.yaxis.set_ticks_position('left')\n",
    "        ax.xaxis.set_ticks_position('top')\n",
    "    \n",
    "    ax.set_xlabel(xlabel)\n",
    "    ax.xaxis.set_label_coords(1.18, 1.06)\n",
    "    ax.set_ylabel(ylabel)\n",
    "    ax.set_title(title, y = 1.08)\n",
    "\n",
    "fig, ax = plt.subplots(figsize=(6, 7))\n",
    "plot_counts(ax, total_counts, 'trope', 'counts', title='Top 25 Tropes Among All Films in DBtropes')"
   ]
  },
  {
   "cell_type": "code",
   "execution_count": null,
   "metadata": {
    "collapsed": true,
    "deletable": true,
    "editable": true
   },
   "outputs": [],
   "source": [
    "from imdbpie import Imdb\n",
    "\n",
    "# Initiate imdb\n",
    "imdb = Imdb()\n",
    "imdb = Imdb(anonymize=True) # to proxy requests"
   ]
  },
  {
   "cell_type": "code",
   "execution_count": null,
   "metadata": {
    "collapsed": true,
    "deletable": true,
    "editable": true
   },
   "outputs": [],
   "source": [
    "top_movies = imdb.top_250()\n",
    "top_250 = pd.DataFrame([movie['title'] for movie in top_movies], columns = ['imdb_title'])             "
   ]
  },
  {
   "cell_type": "code",
   "execution_count": null,
   "metadata": {
    "collapsed": true,
    "deletable": true,
    "editable": true
   },
   "outputs": [],
   "source": [
    "# Function to strip spaces, capitalization, punctuation and accents from stitles.\n",
    "\n",
    "import unidecode\n",
    "def strip_lowercase(text):\n",
    "    text = unidecode.unidecode(text) # dependency: unidecode\n",
    "    return re.sub(r'[^\\w]', '', text).lower()\n",
    "\n",
    "film_trope_df['strip_title'] = film_trope_df['title'].map(strip_lowercase, na_action='ignore')\n",
    "top_250['strip_title'] = top_250['imdb_title'].map(strip_lowercase, na_action='ignore')\n",
    "\n",
    "top_250['isin_dbtrope'] = top_250['strip_title'].isin(film_trope_df['strip_title'])\n",
    "film_trope_df['is_top250'] = film_trope_df['strip_title'].isin(top_250['strip_title'])"
   ]
  },
  {
   "cell_type": "code",
   "execution_count": null,
   "metadata": {
    "collapsed": true,
    "deletable": true,
    "editable": true
   },
   "outputs": [],
   "source": [
    "len(film_trope_df[film_trope_df['is_top250'] == True]['title'].unique())\n",
    "# TODO: this means there are some unfortunate mis-naming happening. Need more cleaning.\n",
    "# Also some films in the top 250 do not have any trope instances, eg. Nausicaä of the Valley of the Wind"
   ]
  },
  {
   "cell_type": "code",
   "execution_count": null,
   "metadata": {
    "collapsed": true,
    "deletable": true,
    "editable": true
   },
   "outputs": [],
   "source": [
    "# Counting tropes for movies that are in the top 250\n",
    "top_counts = pd.DataFrame(film_trope_df[film_trope_df['is_top250'] == True]['trope'].value_counts()).reset_index()\n",
    "top_counts.columns = ['trope', 'counts']"
   ]
  },
  {
   "cell_type": "code",
   "execution_count": null,
   "metadata": {
    "collapsed": true,
    "deletable": true,
    "editable": true
   },
   "outputs": [],
   "source": [
    "fig, ax = plt.subplots(1, 2, sharey=True, figsize=(12, 5)) \n",
    "plt.setp(ax[1].get_yticklabels(), visible=True)\n",
    "plot_counts_cumsum(ax[0], top_counts, 'counts', title='Distribution of Trope Frequencies \\nAmong Top 250 Films') \n",
    "plot_counts_cumsum(ax[1], total_counts, 'counts', title='Distribution of Trope Frequencies \\nAmong All Films in DBtropes')    \n",
    "\n",
    "fig.text(0.18, 0.42, 'top 10% of tropes within group')\n",
    "fig.text(0.6, 0.55, 'top 10% of tropes within group')\n",
    "#plt.savefig('cum_distribution.png')"
   ]
  },
  {
   "cell_type": "code",
   "execution_count": null,
   "metadata": {
    "collapsed": true,
    "deletable": true,
    "editable": true
   },
   "outputs": [],
   "source": [
    "# Summarize counts in both samples in a DataFrame combined_df\n",
    "combined_df = top_counts.merge(total_counts, left_on='trope', right_on='trope', how='outer')\n",
    "combined_df.fillna(0, inplace=True)\n",
    "combined_df.columns = ['trope', 'top_counts', 'all_counts']\n",
    "# Convert raw counts into percentages (%).\n",
    "combined_df['top_counts_pct'] = combined_df['top_counts'] / top_counts['counts'].sum() * 100\n",
    "combined_df['all_counts_pct'] = combined_df['all_counts'] / total_counts['counts'].sum() * 100\n",
    "combined_df['top_minus_all'] = combined_df['top_counts_pct'] - combined_df['all_counts_pct']\n",
    "# Find out whether all_counts_pct >, ==, or < top_250_count_pct \n",
    "# Values would be 1, 0, -1 in column 'all_VS_top, respectively\n",
    "combined_df.loc[combined_df['top_minus_all'] > 0, 'top_VS_all'] = 1\n",
    "combined_df.loc[combined_df['top_minus_all'] == 0, 'top_VS_all'] = 0\n",
    "combined_df.loc[combined_df['top_minus_all'] < 0, 'top_VS_all'] = -1\n",
    "# Generate a Series of colors to indicate 'all_VS_top' values\n",
    "color_dict = {1: 'teal', 0: '#8D6868', -1: 'red'}\n",
    "combined_df['colors'] = combined_df['top_VS_all'].map(color_dict)\n",
    "\n",
    "combined_df.head()"
   ]
  },
  {
   "cell_type": "code",
   "execution_count": null,
   "metadata": {
    "collapsed": true,
    "deletable": true,
    "editable": true
   },
   "outputs": [],
   "source": [
    "fig, axes = plt.subplots(1, 2, figsize=(9, 6)) \n",
    "plt.setp(axes[1].get_yticklabels(), visible=True)\n",
    "\n",
    "# butterfly graph\n",
    "n = 25\n",
    "left_fig = plot_counts(axes[0], combined_df, 'trope', 'top_counts_pct', color=combined_df['colors'],\n",
    "                       xlabel='', ylabel='',\n",
    "                       title='Top 250 Films', n=n, flip_x=True)\n",
    "\n",
    "right_fig = plot_counts(axes[1], combined_df, 'trope', 'all_counts_pct', color='#8D6868',\n",
    "                        xlabel='', ylabel='',\n",
    "                        title='All Films', n=n)\n",
    "\n",
    "axes[0].tick_params(axis='y', direction='out', pad=7)\n",
    "n_lim = 0.6\n",
    "axes[0].set_xlim(n_lim, 0)\n",
    "axes[0].set_xticks(np.arange(0, n_lim + 0.1, 0.1))\n",
    "axes[1].set_xlim(0, n_lim)\n",
    "axes[1].set_xticks(np.arange(0, n_lim + 0.1, 0.1))\n",
    "\n",
    "labels = [item.get_text() for item in axes[1].get_yticklabels()]\n",
    "empty_string_labels = ['']*len(labels)\n",
    "axes[1].set_yticklabels(empty_string_labels)\n",
    "\n",
    "my_suptitle=plt.suptitle('Frequency (%) of the Most \"Successful\" Tropes', y=1.05, fontsize=14)\n",
    "\n",
    "plt.subplots_adjust(wspace = 1.05)\n",
    "\n",
    "fig.savefig('most_popular_tropes_top_films.png', dpi=150, bbox_inches='tight', bbox_extra_artists=[my_suptitle])"
   ]
  },
  {
   "cell_type": "code",
   "execution_count": null,
   "metadata": {
    "collapsed": true,
    "deletable": true,
    "editable": true
   },
   "outputs": [],
   "source": [
    "# Scatter plot of tropes. Position of each dot / trope is its (combined_df.all_counts_pct, combined_df.top_counts_pct).\n",
    "fig, ax = plt.subplots(figsize=(5,5))\n",
    "ax.scatter(x=combined_df['all_counts_pct'], y=combined_df['top_counts_pct'], \n",
    "          c=combined_df['colors'], alpha=0.3, linewidth=1)\n",
    "ax.set_xlim(0, 0.6)\n",
    "ax.set_ylim(0, 0.6)\n",
    "ax.plot(ax.get_xlim(), ax.get_ylim(), ls=\"--\", color='gray')\n",
    "\n",
    "ax.spines['top'].set_visible(False)\n",
    "ax.spines['right'].set_visible(False)\n",
    "ax.yaxis.set_ticks_position('left')\n",
    "ax.xaxis.set_ticks_position('bottom')\n",
    "ax.set_xlabel('Frequency (%) Among All Films')\n",
    "ax.set_ylabel('Frequency (%) Among Top 250 Films')\n",
    "ax.set_title('All Tropes')\n",
    "\n",
    "fig.text(0.7, 0.65, 'y = x', color='gray')\n",
    "plt.savefig('trope_scatter.png', dpi=150, bbox_inches='tight')"
   ]
  },
  {
   "cell_type": "code",
   "execution_count": null,
   "metadata": {
    "collapsed": true,
    "deletable": true,
    "editable": true
   },
   "outputs": [],
   "source": [
    "# Scatter plot of tropes. Position of each dot / trope is its (combined_df.all_counts_pct, combined_df.top_counts_pct).\n",
    "fig, ax = plt.subplots(figsize=(5,5))\n",
    "ax.scatter(combined_df[combined_df['top_counts'] > 0]['top_counts_pct'], \n",
    "           combined_df[combined_df['top_counts'] > 0]['top_minus_all'],\n",
    "          c=combined_df['colors'], alpha=0.3, linewidth=1)\n",
    "ax.plot(ax.get_xlim(), (0, 0), ls=\"--\", color='gray')\n",
    "ax.set_xlim(0, 0.5)\n",
    "ax.set_ylim(-0.2, 0.2)\n",
    "\n",
    "ax.spines['top'].set_visible(False)\n",
    "ax.spines['right'].set_visible(False)\n",
    "ax.yaxis.set_ticks_position('left')\n",
    "ax.xaxis.set_ticks_position('bottom')\n",
    "ax.set_xlabel('Frequency (%) Among Top 250 Films')\n",
    "ax.set_ylabel(r'$\\Delta$' + ' Frequency (%)')\n",
    "ax.set_title('Tropes That Appeared In Top 250 Films')\n",
    "fig.text(0.7, 0.53, r'$\\Delta$ = 0', color='gray')\n",
    "plt.savefig('trope_delta_scatter.png', dpi=150, bbox_inches='tight')"
   ]
  },
  {
   "cell_type": "code",
   "execution_count": null,
   "metadata": {
    "collapsed": true,
    "deletable": true,
    "editable": true
   },
   "outputs": [],
   "source": [
    "# TODO: Make a DataFrame of all movies in film_trope_dict: imdb id, title, year, genres"
   ]
  }
 ],
 "metadata": {
  "kernelspec": {
   "display_name": "Python 2",
   "language": "python",
   "name": "python2"
  },
  "language_info": {
   "codemirror_mode": {
    "name": "ipython",
    "version": 2
   },
   "file_extension": ".py",
   "mimetype": "text/x-python",
   "name": "python",
   "nbconvert_exporter": "python",
   "pygments_lexer": "ipython2",
   "version": "2.7.13"
  }
 },
 "nbformat": 4,
 "nbformat_minor": 2
}
