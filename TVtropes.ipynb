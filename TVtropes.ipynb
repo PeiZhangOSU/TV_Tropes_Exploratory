{
 "cells": [
  {
   "cell_type": "markdown",
   "metadata": {
    "deletable": true,
    "editable": true
   },
   "source": [
    "Dependency links:\n",
    "- [rdflib](https://github.com/RDFLib/rdflib)\n",
    "- [imdbpie](https://github.com/richardasaurus/imdb-pie)\n",
    "- [pandas](http://pandas.pydata.org/)\n",
    "- [matplotlib](https://matplotlib.org/)\n",
    "- [numpy](https://www.numpy.org/)\n",
    "- [unidecode](https://pypi.python.org/pypi/Unidecode)"
   ]
  },
  {
   "cell_type": "code",
   "execution_count": null,
   "metadata": {
    "collapsed": false,
    "deletable": true,
    "editable": true
   },
   "outputs": [],
   "source": [
    "# # This step takes a while\n",
    "# from __future__ import print_function\n",
    "# import rdflib\n",
    "\n",
    "# g = rdflib.Graph()\n",
    "# g.parse(\"film_data.nt\", format=\"nt\")\n",
    "\n",
    "# len(g)"
   ]
  },
  {
   "cell_type": "code",
   "execution_count": null,
   "metadata": {
    "collapsed": false,
    "deletable": true,
    "editable": true
   },
   "outputs": [],
   "source": [
    "# import re\n",
    "\n",
    "# film_trope_dict = {}\n",
    "\n",
    "\n",
    "# for t_sub, t_obj in g.subject_objects(predicate=rdflib.URIRef('http://www.w3.org/1999/02/22-rdf-syntax-ns#type')):\n",
    "#     title = ''\n",
    "#     trope = ''\n",
    "#     try:\n",
    "#         title = re.match('http://dbtropes.org/resource/Film/([^/]*)', t_sub).groups()[0]\n",
    "#         trope = re.match('http://dbtropes.org/resource/Main/([^/]*)', t_obj).groups()[0]\n",
    "#         if title in film_trope_dict:\n",
    "#             film_trope_dict[title].append(trope)\n",
    "#         else:\n",
    "#             film_trope_dict[title] = [trope]\n",
    "#     except Exception:\n",
    "#         pass\n"
   ]
  },
  {
   "cell_type": "code",
   "execution_count": 1,
   "metadata": {
    "collapsed": true,
    "deletable": true,
    "editable": true
   },
   "outputs": [],
   "source": [
    "# save / load film_trope_dict.pkl so that parsing with rdflib can be skipped if just playing with data visualization\n",
    "\n",
    "from __future__ import print_function # Because the code was moved from Python 3 to 2\n",
    "import re\n",
    "\n",
    "import pickle\n",
    "\n",
    "## write python dict to a file\n",
    "\n",
    "# output = open('film_trope_dict_python2.pkl', 'wb')\n",
    "# pickle.dump(film_trope_dict, output, protocol=2) # default protocol is 3 in Python 3, not supported in Python 2\n",
    "# output.close()"
   ]
  },
  {
   "cell_type": "code",
   "execution_count": 3,
   "metadata": {
    "collapsed": false
   },
   "outputs": [],
   "source": [
    "# read python dict back from the file\n",
    "pkl_file = open('film_trope_dict_python2.pkl', 'rb')\n",
    "film_trope_dict = pickle.load(pkl_file)\n",
    "pkl_file.close()"
   ]
  },
  {
   "cell_type": "code",
   "execution_count": null,
   "metadata": {
    "collapsed": false,
    "deletable": true,
    "editable": true
   },
   "outputs": [],
   "source": [
    "import pandas as pd\n",
    "import matplotlib.pyplot as plt\n",
    "import numpy as np\n",
    "%matplotlib inline\n",
    "\n",
    "# Make a DataFrame of all film-trope pairs with an arbituary index\n",
    "    \n",
    "film_trope_df = pd.DataFrame.from_dict(film_trope_dict, orient =\"index\").sort_index().stack().reset_index(level=1, drop=True).reset_index()    \n",
    "film_trope_df.columns = ['title', 'trope']\n",
    "film_trope_df.head()"
   ]
  },
  {
   "cell_type": "code",
   "execution_count": null,
   "metadata": {
    "collapsed": false,
    "deletable": true,
    "editable": true
   },
   "outputs": [],
   "source": [
    "# Funtion to add spaces between words, in order to display tropes better\n",
    "\n",
    "def add_space(text):\n",
    "    return re.sub(r\"\\B([A-Z]+)\", r\" \\1\", text)\n",
    "\n",
    "film_trope_df['trope'] = film_trope_df['trope'].map(add_space, na_action='ignore')"
   ]
  },
  {
   "cell_type": "code",
   "execution_count": null,
   "metadata": {
    "collapsed": true,
    "deletable": true,
    "editable": true
   },
   "outputs": [],
   "source": [
    "# Counting the frequency of each trope\n",
    "\n",
    "total_counts = pd.DataFrame(film_trope_df['trope'].value_counts()).reset_index()\n",
    "total_counts.columns = ['trope', 'counts']"
   ]
  },
  {
   "cell_type": "code",
   "execution_count": null,
   "metadata": {
    "collapsed": false,
    "deletable": true,
    "editable": true
   },
   "outputs": [],
   "source": [
    "# # Function to plot the distribution of the count frequency.\n",
    "# # ax: where to plot\n",
    "# # df: sorted DataFrame of frequencies, with an autoincrement index\n",
    "# # col_data: name of the column that contains the counts\n",
    "# # title, xlabel, ylabel: figure labels\n",
    "\n",
    "# def plot_counts_dist(ax, df, col_data, title, xlabel='Trope Rank (within group)', ylabel='Trope Frequency (%)'):\n",
    "#     counts_sum = df[col_data].sum()\n",
    "    \n",
    "    \n",
    "#     ax.fill_between(x = df.index, y1 = df[col_data] / counts_sum * 100, y2 = 0, color = 'b', alpha = 0.5)\n",
    "\n",
    "#     ax.spines['top'].set_visible(False)\n",
    "#     ax.spines['right'].set_visible(False)\n",
    "#     ax.spines['left'].set_visible(False)\n",
    "#     ax.spines['bottom'].set_visible(False)\n",
    "#     ax.yaxis.set_ticks_position('left')\n",
    "#     ax.xaxis.set_ticks_position('bottom')\n",
    "\n",
    "#     ax.set_xlim(0, len(df))\n",
    "#     ax.set_xticks(np.array([0, 0.25, 0.5, 0.75, 1]) * len(df))\n",
    "\n",
    "#     ax.set_xlabel(xlabel)\n",
    "#     ax.set_ylabel(ylabel)\n",
    "#     ax.set_title(title)\n",
    "\n",
    "\n",
    "# fig, ax = plt.subplots()\n",
    "# plot_counts_dist(ax, total_counts, 'counts', title = 'Distribution of Trope Frequencies \\nAmong All Films in DBtropes')"
   ]
  },
  {
   "cell_type": "code",
   "execution_count": null,
   "metadata": {
    "collapsed": false,
    "deletable": true,
    "editable": true
   },
   "outputs": [],
   "source": [
    "# Function to plot the cumulative distribution of the count frequency.\n",
    "# ax: where to plot\n",
    "# df: sorted DataFrame of frequencies, with an autoincrement index\n",
    "# col_data: name of the column that contains the counts\n",
    "# title, xlabel, ylabel: figure labels\n",
    "\n",
    "def plot_counts_cumsum(ax, df, col_data, title, xlabel='Ranks of Tropes (within group)', ylabel='Trope Frequency (%)'):\n",
    "    counts_sum = df[col_data].sum()\n",
    "    cumsum_df = df[col_data].cumsum() / counts_sum * 100\n",
    "    \n",
    "    ax.plot(cumsum_df, color = 'b', alpha = 0.5)\n",
    "    \n",
    "    # add lines at 10% total trope population\n",
    "    px = round(0.1 * len(cumsum_df))\n",
    "    py = cumsum_df.loc[px]\n",
    "    ax.plot([px, px], [0, py], 'r:', marker = 'o', alpha = 0.5)\n",
    "    ax.plot([0, px], [py, py], 'r:', marker = 'o', alpha = 0.5)\n",
    "    \n",
    "    \n",
    "    ax.spines['top'].set_visible(False)\n",
    "    ax.spines['right'].set_visible(False)\n",
    "    ax.spines['left'].set_visible(False)\n",
    "    ax.yaxis.set_ticks_position('left')\n",
    "    ax.xaxis.set_ticks_position('bottom')\n",
    "\n",
    "    ax.set_xlim(0, len(df))\n",
    "    ax.set_xticks(np.array([0, 0.25, 0.5, 0.75, 1]) * len(df))\n",
    "    ax.set_yticks(np.arange(0, 110, 10))\n",
    "\n",
    "    ax.set_xlabel(xlabel)\n",
    "    ax.set_ylabel(ylabel)\n",
    "    ax.set_title(title)\n",
    "\n",
    "\n",
    "fig, ax = plt.subplots()\n",
    "plot_counts_cumsum(ax, total_counts, 'counts', title = 'Cumulative Distribution of Trope Frequencies \\nAmong All Films in DBtropes')\n",
    "fig.text(0.25, 0.55, 'top 10% of tropes within group')"
   ]
  },
  {
   "cell_type": "code",
   "execution_count": null,
   "metadata": {
    "collapsed": false,
    "deletable": true,
    "editable": true
   },
   "outputs": [],
   "source": [
    "# Function to plot a 'histogram' of top frequencies\n",
    "# ax: where to plot the figure\n",
    "# df: sorted DataFrame of frequencies, with an autoincrement index\n",
    "# col_label: name of the column that contains the trope labels \n",
    "# col_data: name of the column that contains the counts\n",
    "# n: number of tropes to be shown, default 25\n",
    "# title, xlabel, ylabel: figure labels\n",
    "# color, alpha: bar appearance, default color = blue, alpha = 0.5\n",
    "# flip_x: flip x axis, default False\n",
    "\n",
    "def plot_counts(ax, df, col_label, col_data, title, xlabel='Counts', ylabel='Tropes', \n",
    "                color='blue', alpha=0.5, n=25, flip_x=False):\n",
    "    new = df.head(n)\n",
    "        \n",
    "    ax.barh(new.index, new[col_data], color=color, alpha=alpha, align='center')\n",
    "    ax.set_yticks(np.arange(len(new[col_label])))\n",
    "    ax.set_yticklabels(new[col_label])\n",
    "    ax.set_ylim(-1, len(new[col_label]))\n",
    "    ax.invert_yaxis()\n",
    "\n",
    "    if flip_x:\n",
    "        ax.invert_xaxis()\n",
    "        ax.spines['bottom'].set_visible(False)\n",
    "        ax.spines['left'].set_visible(False)\n",
    "        ax.yaxis.set_ticks_position('right')\n",
    "        ax.xaxis.set_ticks_position('top')\n",
    "    else:\n",
    "        ax.spines['bottom'].set_visible(False)\n",
    "        ax.spines['right'].set_visible(False)\n",
    "        ax.yaxis.set_ticks_position('left')\n",
    "        ax.xaxis.set_ticks_position('top')\n",
    "    \n",
    "    ax.set_xlabel(xlabel)\n",
    "    ax.xaxis.set_label_coords(1.18, 1.06)\n",
    "    ax.set_ylabel(ylabel)\n",
    "    ax.set_title(title, y = 1.08)\n",
    "\n",
    "fig, ax = plt.subplots(figsize=(6, 7))\n",
    "plot_counts(ax, total_counts, 'trope', 'counts', title='Top 25 Tropes Among All Films in DBtropes')"
   ]
  },
  {
   "cell_type": "code",
   "execution_count": null,
   "metadata": {
    "collapsed": false,
    "deletable": true,
    "editable": true
   },
   "outputs": [],
   "source": [
    "from imdbpie import Imdb\n",
    "\n",
    "# Initiate imdb\n",
    "imdb = Imdb()\n",
    "imdb = Imdb(anonymize=True) # to proxy requests"
   ]
  },
  {
   "cell_type": "code",
   "execution_count": null,
   "metadata": {
    "collapsed": false,
    "deletable": true,
    "editable": true
   },
   "outputs": [],
   "source": [
    "top_movies = imdb.top_250()\n",
    "top_250 = pd.DataFrame([movie['title'] for movie in top_movies], columns = ['imdb_title'])             "
   ]
  },
  {
   "cell_type": "code",
   "execution_count": null,
   "metadata": {
    "collapsed": false,
    "deletable": true,
    "editable": true
   },
   "outputs": [],
   "source": [
    "# Function to strip spaces, capitalization, punctuation and accents from stitles.\n",
    "\n",
    "import unidecode\n",
    "def strip_lowercase(text):\n",
    "    text = unidecode.unidecode(text) # dependency: unidecode\n",
    "    return re.sub(r'[^\\w]', '', text).lower()\n",
    "\n",
    "film_trope_df['strip_title'] = film_trope_df['title'].map(strip_lowercase, na_action='ignore')\n",
    "top_250['strip_title'] = top_250['imdb_title'].map(strip_lowercase, na_action='ignore')\n",
    "\n",
    "top_250['isin_dbtrope'] = top_250['strip_title'].isin(film_trope_df['strip_title'])\n",
    "film_trope_df['is_top250'] = film_trope_df['strip_title'].isin(top_250['strip_title'])"
   ]
  },
  {
   "cell_type": "code",
   "execution_count": null,
   "metadata": {
    "collapsed": false,
    "deletable": true,
    "editable": true
   },
   "outputs": [],
   "source": [
    "len(film_trope_df[film_trope_df['is_top250'] == True]['title'].unique())\n",
    "# TODO: this means there are some unfortunate mis-naming happening. Need more cleaning.\n",
    "# Also some films in the top 250 do not have any trope instances, eg. Nausicaä of the Valley of the Wind"
   ]
  },
  {
   "cell_type": "code",
   "execution_count": null,
   "metadata": {
    "collapsed": false,
    "deletable": true,
    "editable": true
   },
   "outputs": [],
   "source": [
    "# Counting tropes for movies that are in the top 250\n",
    "top_counts = pd.DataFrame(film_trope_df[film_trope_df['is_top250'] == True]['trope'].value_counts()).reset_index()\n",
    "top_counts.columns = ['trope', 'counts']"
   ]
  },
  {
   "cell_type": "code",
   "execution_count": null,
   "metadata": {
    "collapsed": false,
    "deletable": true,
    "editable": true
   },
   "outputs": [],
   "source": [
    "fig, ax = plt.subplots(1, 2, sharey=True, figsize=(12, 5)) \n",
    "plt.setp(ax[1].get_yticklabels(), visible=True)\n",
    "plot_counts_cumsum(ax[0], top_counts, 'counts', title='Distribution of Trope Frequencies \\nAmong Top 250 Films') \n",
    "plot_counts_cumsum(ax[1], total_counts, 'counts', title='Distribution of Trope Frequencies \\nAmong All Films in DBtropes')    \n",
    "\n",
    "fig.text(0.18, 0.42, 'top 10% of tropes within group')\n",
    "fig.text(0.6, 0.55, 'top 10% of tropes within group')\n",
    "#plt.savefig('cum_distribution.png')"
   ]
  },
  {
   "cell_type": "code",
   "execution_count": null,
   "metadata": {
    "collapsed": false,
    "deletable": true,
    "editable": true
   },
   "outputs": [],
   "source": [
    "# Summarize counts in both samples in a DataFrame combined_df\n",
    "combined_df = top_counts.merge(total_counts, left_on='trope', right_on='trope', how='outer')\n",
    "combined_df.fillna(0, inplace=True)\n",
    "combined_df.columns = ['trope', 'top_counts', 'all_counts']\n",
    "# Convert raw counts into percentages (%).\n",
    "combined_df['top_counts_pct'] = combined_df['top_counts'] / top_counts['counts'].sum() * 100\n",
    "combined_df['all_counts_pct'] = combined_df['all_counts'] / total_counts['counts'].sum() * 100\n",
    "combined_df['top_minus_all'] = combined_df['top_counts_pct'] - combined_df['all_counts_pct']\n",
    "# Find out whether all_counts_pct >, ==, or < top_250_count_pct \n",
    "# Values would be 1, 0, -1 in column 'all_VS_top, respectively\n",
    "combined_df.loc[combined_df['top_minus_all'] > 0, 'top_VS_all'] = 1\n",
    "combined_df.loc[combined_df['top_minus_all'] == 0, 'top_VS_all'] = 0\n",
    "combined_df.loc[combined_df['top_minus_all'] < 0, 'top_VS_all'] = -1\n",
    "# Generate a Series of colors to indicate 'all_VS_top' values\n",
    "color_dict = {1: 'teal', 0: '#8D6868', -1: 'red'}\n",
    "combined_df['colors'] = combined_df['top_VS_all'].map(color_dict)\n",
    "\n",
    "combined_df.head()"
   ]
  },
  {
   "cell_type": "code",
   "execution_count": null,
   "metadata": {
    "collapsed": false,
    "deletable": true,
    "editable": true
   },
   "outputs": [],
   "source": [
    "fig, axes = plt.subplots(1, 2, figsize=(9, 6)) \n",
    "plt.setp(axes[1].get_yticklabels(), visible=True)\n",
    "\n",
    "# butterfly graph\n",
    "n = 25\n",
    "left_fig = plot_counts(axes[0], combined_df, 'trope', 'top_counts_pct', color=combined_df['colors'],\n",
    "                       xlabel='', ylabel='',\n",
    "                       title='Top 250 Films', n=n, flip_x=True)\n",
    "\n",
    "right_fig = plot_counts(axes[1], combined_df, 'trope', 'all_counts_pct', color='#8D6868',\n",
    "                        xlabel='', ylabel='',\n",
    "                        title='All Films', n=n)\n",
    "\n",
    "axes[0].tick_params(axis='y', direction='out', pad=7)\n",
    "n_lim = 0.6\n",
    "axes[0].set_xlim(n_lim, 0)\n",
    "axes[0].set_xticks(np.arange(0, n_lim + 0.1, 0.1))\n",
    "axes[1].set_xlim(0, n_lim)\n",
    "axes[1].set_xticks(np.arange(0, n_lim + 0.1, 0.1))\n",
    "\n",
    "labels = [item.get_text() for item in axes[1].get_yticklabels()]\n",
    "empty_string_labels = ['']*len(labels)\n",
    "axes[1].set_yticklabels(empty_string_labels)\n",
    "\n",
    "my_suptitle=plt.suptitle('Frequency (%) of the Most \"Successful\" Tropes', y=1.05, fontsize=14)\n",
    "\n",
    "plt.subplots_adjust(wspace = 1.05)\n",
    "\n",
    "fig.savefig('most_popular_tropes_top_films.png', dpi=150, bbox_inches='tight', bbox_extra_artists=[my_suptitle])"
   ]
  },
  {
   "cell_type": "code",
   "execution_count": null,
   "metadata": {
    "collapsed": false,
    "deletable": true,
    "editable": true
   },
   "outputs": [],
   "source": [
    "# Scatter plot of tropes. Position of each dot / trope is its (combined_df.all_counts_pct, combined_df.top_counts_pct).\n",
    "fig, ax = plt.subplots(figsize=(5,5))\n",
    "ax.scatter(x=combined_df['all_counts_pct'], y=combined_df['top_counts_pct'], \n",
    "          c=combined_df['colors'], alpha=0.3, linewidth=1)\n",
    "ax.set_xlim(0, 0.6)\n",
    "ax.set_ylim(0, 0.6)\n",
    "ax.plot(ax.get_xlim(), ax.get_ylim(), ls=\"--\", color='gray')\n",
    "\n",
    "ax.spines['top'].set_visible(False)\n",
    "ax.spines['right'].set_visible(False)\n",
    "ax.yaxis.set_ticks_position('left')\n",
    "ax.xaxis.set_ticks_position('bottom')\n",
    "ax.set_xlabel('Frequency (%) Among All Films')\n",
    "ax.set_ylabel('Frequency (%) Among Top 250 Films')\n",
    "ax.set_title('All Tropes')\n",
    "\n",
    "fig.text(0.7, 0.65, 'y = x', color='gray')\n",
    "plt.savefig('trope_scatter.png', dpi=150, bbox_inches='tight')"
   ]
  },
  {
   "cell_type": "code",
   "execution_count": null,
   "metadata": {
    "collapsed": false,
    "deletable": true,
    "editable": true
   },
   "outputs": [],
   "source": [
    "# Scatter plot of tropes. Position of each dot / trope is its (combined_df.all_counts_pct, combined_df.top_counts_pct).\n",
    "fig, ax = plt.subplots(figsize=(5,5))\n",
    "ax.scatter(combined_df[combined_df['top_counts'] > 0]['top_counts_pct'], \n",
    "           combined_df[combined_df['top_counts'] > 0]['top_minus_all'],\n",
    "          c=combined_df['colors'], alpha=0.3, linewidth=1)\n",
    "ax.plot(ax.get_xlim(), (0, 0), ls=\"--\", color='gray')\n",
    "ax.set_xlim(0, 0.5)\n",
    "ax.set_ylim(-0.2, 0.2)\n",
    "\n",
    "ax.spines['top'].set_visible(False)\n",
    "ax.spines['right'].set_visible(False)\n",
    "ax.yaxis.set_ticks_position('left')\n",
    "ax.xaxis.set_ticks_position('bottom')\n",
    "ax.set_xlabel('Frequency (%) Among Top 250 Films')\n",
    "ax.set_ylabel(r'$\\Delta$' + ' Frequency (%)')\n",
    "ax.set_title('Tropes That Appeared In Top 250 Films')\n",
    "fig.text(0.7, 0.53, r'$\\Delta$ = 0', color='gray')\n",
    "plt.savefig('trope_delta_scatter.png', dpi=150, bbox_inches='tight')"
   ]
  },
  {
   "cell_type": "code",
   "execution_count": null,
   "metadata": {
    "collapsed": true,
    "deletable": true,
    "editable": true
   },
   "outputs": [],
   "source": [
    "# TODO: Make a DataFrame of all movies in film_trope_dict: imdb id, title, year, genres"
   ]
  }
 ],
 "metadata": {
  "kernelspec": {
   "display_name": "Python 2",
   "language": "python",
   "name": "python2"
  },
  "language_info": {
   "codemirror_mode": {
    "name": "ipython",
    "version": 2
   },
   "file_extension": ".py",
   "mimetype": "text/x-python",
   "name": "python",
   "nbconvert_exporter": "python",
   "pygments_lexer": "ipython2",
   "version": "2.7.13"
  }
 },
 "nbformat": 4,
 "nbformat_minor": 2
}
