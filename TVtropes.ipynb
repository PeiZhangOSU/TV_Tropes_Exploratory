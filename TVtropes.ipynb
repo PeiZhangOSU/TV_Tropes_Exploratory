{
 "cells": [
  {
   "cell_type": "code",
   "execution_count": null,
   "metadata": {
    "collapsed": false
   },
   "outputs": [],
   "source": [
    "## Take the first 5000 lines as a small practice set\n",
    "# from itertools import islice\n",
    "# n = 5000\n",
    "# subfile = open('subfile.nt', 'w')\n",
    "# with open('dbtropes.nt') as myfile:\n",
    "#     head = list(islice(myfile, n))\n",
    "#     for item in head:\n",
    "#         subfile.write(item)\n",
    "#     subfile.close()"
   ]
  },
  {
   "cell_type": "code",
   "execution_count": null,
   "metadata": {
    "collapsed": false
   },
   "outputs": [],
   "source": [
    "# import rdflib\n",
    "\n",
    "# g = rdflib.Graph()\n",
    "# g.parse(\"subfile.nt\", format=\"nt\")\n",
    "\n",
    "# len(g)"
   ]
  },
  {
   "cell_type": "code",
   "execution_count": null,
   "metadata": {
    "collapsed": false
   },
   "outputs": [],
   "source": [
    "# import pprint\n",
    "# for item in g:\n",
    "#     pprint.pprint(item)\n"
   ]
  },
  {
   "cell_type": "code",
   "execution_count": null,
   "metadata": {
    "collapsed": false
   },
   "outputs": [],
   "source": [
    "# features = []\n",
    "# for t in g.triples((rdflib.URIRef('http://dbtropes.org/resource/WesternAnimation/TheHobbit'), \n",
    "#                     rdflib.URIRef('http://skipforward.net/skipforward/resource/seeder/skipinions/hasFeature'), None)): \n",
    "#     features.append(t)\n",
    "# len(features)"
   ]
  },
  {
   "cell_type": "code",
   "execution_count": 1,
   "metadata": {
    "collapsed": false
   },
   "outputs": [
    {
     "data": {
      "text/plain": [
       "1618469"
      ]
     },
     "execution_count": 1,
     "metadata": {},
     "output_type": "execute_result"
    }
   ],
   "source": [
    "import rdflib\n",
    "\n",
    "g = rdflib.Graph()\n",
    "g.parse(\"film_data.nt\", format=\"nt\")\n",
    "\n",
    "len(g)"
   ]
  },
  {
   "cell_type": "code",
   "execution_count": 17,
   "metadata": {
    "collapsed": false
   },
   "outputs": [],
   "source": [
    "import re\n",
    "\n",
    "films = set()\n",
    "tropes = set()\n",
    "film_trope_dict = {}\n",
    "\n",
    "\n",
    "for t_sub, t_obj in g.subject_objects(predicate = rdflib.URIRef('http://www.w3.org/1999/02/22-rdf-syntax-ns#type')):\n",
    "    title = ''\n",
    "    trope = ''\n",
    "    try:\n",
    "        title = re.match('http://dbtropes.org/resource/Film/([^/]*)', t_sub).groups()[0]\n",
    "        trope = re.match('http://dbtropes.org/resource/Main/([^/]*)', t_obj).groups()[0]\n",
    "        films.add(title)\n",
    "        tropes.add(trope)\n",
    "        if title in film_trope_dict:\n",
    "            film_trope_dict[title].append(trope)\n",
    "        else:\n",
    "            film_trope_dict[title] = [trope]\n",
    "    except Exception:\n",
    "        pass\n"
   ]
  },
  {
   "cell_type": "code",
   "execution_count": 18,
   "metadata": {
    "collapsed": false
   },
   "outputs": [
    {
     "name": "stdout",
     "output_type": "stream",
     "text": [
      "# of films 5925\n",
      "# of tropes 18270\n"
     ]
    }
   ],
   "source": [
    "print('# of films', len(films))\n",
    "print('# of tropes', len(tropes))"
   ]
  },
  {
   "cell_type": "code",
   "execution_count": 14,
   "metadata": {
    "collapsed": false
   },
   "outputs": [
    {
     "data": {
      "text/plain": [
       "5925"
      ]
     },
     "execution_count": 14,
     "metadata": {},
     "output_type": "execute_result"
    }
   ],
   "source": [
    "len(film_trope_dict)"
   ]
  },
  {
   "cell_type": "code",
   "execution_count": 24,
   "metadata": {
    "collapsed": true
   },
   "outputs": [],
   "source": [
    "# save film_trope_dict so that parsing with rdflib can be skipped if just playing with data visualization\n",
    "\n",
    "import pickle\n",
    "\n",
    "# write python dict to a file\n",
    "\n",
    "output = open('film_trope_dict.pkl', 'wb')\n",
    "pickle.dump(film_trope_dict, output)\n",
    "output.close()\n",
    "\n",
    "# # read python dict back from the file\n",
    "# pkl_file = open('film_trope_dict.pkl', 'rb')\n",
    "# mydict = pickle.load(pkl_file)\n",
    "# pkl_file.close()"
   ]
  },
  {
   "cell_type": "code",
   "execution_count": null,
   "metadata": {
    "collapsed": true
   },
   "outputs": [],
   "source": []
  }
 ],
 "metadata": {
  "kernelspec": {
   "display_name": "Python 3",
   "language": "python",
   "name": "python3"
  },
  "language_info": {
   "codemirror_mode": {
    "name": "ipython",
    "version": 3
   },
   "file_extension": ".py",
   "mimetype": "text/x-python",
   "name": "python",
   "nbconvert_exporter": "python",
   "pygments_lexer": "ipython3",
   "version": "3.5.2"
  }
 },
 "nbformat": 4,
 "nbformat_minor": 2
}
